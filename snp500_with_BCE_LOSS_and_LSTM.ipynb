{
  "nbformat": 4,
  "nbformat_minor": 0,
  "metadata": {
    "colab": {
      "name": "snp500 with BCE LOSS and LSTM.ipynb",
      "provenance": [],
      "collapsed_sections": [],
      "include_colab_link": true
    },
    "kernelspec": {
      "display_name": "Python 3",
      "name": "python3"
    },
    "accelerator": "GPU"
  },
  "cells": [
    {
      "cell_type": "markdown",
      "metadata": {
        "id": "view-in-github",
        "colab_type": "text"
      },
      "source": [
        "<a href=\"https://colab.research.google.com/github/LSJgobsl/TransformerSNP500/blob/master/snp500_with_BCE_LOSS_and_LSTM.ipynb\" target=\"_parent\"><img src=\"https://colab.research.google.com/assets/colab-badge.svg\" alt=\"Open In Colab\"/></a>"
      ]
    },
    {
      "cell_type": "code",
      "metadata": {
        "id": "O_UHSfYtp0xK"
      },
      "source": [
        "import numpy as np\n",
        "import pandas as pd\n",
        "import matplotlib.pyplot as plt\n",
        "import math\n",
        "import time\n",
        "\n",
        "import torch\n",
        "import torch.nn as nn\n",
        "import torch.nn.functional as F\n",
        "import torch.autograd as autograd\n",
        "\n",
        "from sklearn.preprocessing import StandardScaler, MinMaxScaler\n",
        "from sklearn.model_selection import train_test_split\n",
        "from sklearn.metrics import r2_score\n",
        "from sklearn.metrics import mean_squared_error as mse\n",
        "\n",
        "from IPython.display import display\n",
        "from IPython.display import SVG, Image\n"
      ],
      "execution_count": null,
      "outputs": []
    },
    {
      "cell_type": "code",
      "metadata": {
        "colab": {
          "base_uri": "https://localhost:8080/"
        },
        "id": "NLtnSX7SzuWa",
        "outputId": "b82d254a-9831-4d50-ef9d-62b23fad3241"
      },
      "source": [
        "from google.colab import drive\n",
        "drive.mount('/content/drive')"
      ],
      "execution_count": null,
      "outputs": [
        {
          "output_type": "stream",
          "text": [
            "Drive already mounted at /content/drive; to attempt to forcibly remount, call drive.mount(\"/content/drive\", force_remount=True).\n"
          ],
          "name": "stdout"
        }
      ]
    },
    {
      "cell_type": "code",
      "metadata": {
        "id": "2iNYM3Vfx9pv"
      },
      "source": [
        "raw_data = pd.read_csv('./drive/MyDrive/graph/GSPC.csv')\n",
        "raw_data['Date'] = pd.to_datetime(raw_data['Date'])\n",
        "raw_data.set_index('Date',inplace=True)\n",
        "\n",
        "goog = pd.read_csv('./drive/MyDrive/graph/GOOG.csv')\n",
        "goog['Date'] = pd.to_datetime(goog['Date'])\n",
        "goog.set_index('Date',inplace = True)\n",
        "\n",
        "amzn = pd.read_csv('./drive/MyDrive/graph/AMZN.csv')\n",
        "amzn['Date'] = pd.to_datetime(amzn['Date'])\n",
        "amzn.set_index('Date',inplace=True)\n",
        "\n",
        "fb = pd.read_csv('./drive/MyDrive/graph/FB.csv')\n",
        "fb['Date'] = pd.to_datetime(fb['Date'])\n",
        "fb.set_index('Date',inplace = True)\n",
        "\n",
        "nflx = pd.read_csv('./drive/MyDrive/graph/NFLX.csv')\n",
        "nflx['Date'] = pd.to_datetime(nflx['Date'])\n",
        "nflx.set_index('Date',inplace = True)\n",
        "\n",
        "aapl = pd.read_csv('./drive/MyDrive/graph/AAPL.csv')\n",
        "aapl['Date'] = pd.to_datetime(aapl['Date'])\n",
        "aapl.set_index('Date', inplace = True)\n",
        "\n",
        "msft = pd.read_csv('./drive/MyDrive/graph/MSFT.csv')\n",
        "msft['Date'] = pd.to_datetime(msft['Date'])\n",
        "msft.set_index('Date',inplace = True)\n",
        "\n",
        "\n",
        "device = torch.device(\"cuda\" if torch.cuda.is_available() else \"cpu\")\n"
      ],
      "execution_count": null,
      "outputs": []
    },
    {
      "cell_type": "code",
      "metadata": {
        "colab": {
          "base_uri": "https://localhost:8080/"
        },
        "id": "8bjWi2zu8Lq4",
        "outputId": "e928abb6-3d64-45df-90e4-600de3d83d24"
      },
      "source": [
        "date_list =  raw_data.index.to_list()\n",
        "print(date_list)"
      ],
      "execution_count": null,
      "outputs": [
        {
          "output_type": "stream",
          "text": [
            "[Timestamp('2016-03-01 00:00:00'), Timestamp('2016-03-02 00:00:00'), Timestamp('2016-03-03 00:00:00'), Timestamp('2016-03-04 00:00:00'), Timestamp('2016-03-07 00:00:00'), Timestamp('2016-03-08 00:00:00'), Timestamp('2016-03-09 00:00:00'), Timestamp('2016-03-10 00:00:00'), Timestamp('2016-03-11 00:00:00'), Timestamp('2016-03-14 00:00:00'), Timestamp('2016-03-15 00:00:00'), Timestamp('2016-03-16 00:00:00'), Timestamp('2016-03-17 00:00:00'), Timestamp('2016-03-18 00:00:00'), Timestamp('2016-03-21 00:00:00'), Timestamp('2016-03-22 00:00:00'), Timestamp('2016-03-23 00:00:00'), Timestamp('2016-03-24 00:00:00'), Timestamp('2016-03-28 00:00:00'), Timestamp('2016-03-29 00:00:00'), Timestamp('2016-03-30 00:00:00'), Timestamp('2016-03-31 00:00:00'), Timestamp('2016-04-01 00:00:00'), Timestamp('2016-04-04 00:00:00'), Timestamp('2016-04-05 00:00:00'), Timestamp('2016-04-06 00:00:00'), Timestamp('2016-04-07 00:00:00'), Timestamp('2016-04-08 00:00:00'), Timestamp('2016-04-11 00:00:00'), Timestamp('2016-04-12 00:00:00'), Timestamp('2016-04-13 00:00:00'), Timestamp('2016-04-14 00:00:00'), Timestamp('2016-04-15 00:00:00'), Timestamp('2016-04-18 00:00:00'), Timestamp('2016-04-19 00:00:00'), Timestamp('2016-04-20 00:00:00'), Timestamp('2016-04-21 00:00:00'), Timestamp('2016-04-22 00:00:00'), Timestamp('2016-04-25 00:00:00'), Timestamp('2016-04-26 00:00:00'), Timestamp('2016-04-27 00:00:00'), Timestamp('2016-04-28 00:00:00'), Timestamp('2016-04-29 00:00:00'), Timestamp('2016-05-02 00:00:00'), Timestamp('2016-05-03 00:00:00'), Timestamp('2016-05-04 00:00:00'), Timestamp('2016-05-05 00:00:00'), Timestamp('2016-05-06 00:00:00'), Timestamp('2016-05-09 00:00:00'), Timestamp('2016-05-10 00:00:00'), Timestamp('2016-05-11 00:00:00'), Timestamp('2016-05-12 00:00:00'), Timestamp('2016-05-13 00:00:00'), Timestamp('2016-05-16 00:00:00'), Timestamp('2016-05-17 00:00:00'), Timestamp('2016-05-18 00:00:00'), Timestamp('2016-05-19 00:00:00'), Timestamp('2016-05-20 00:00:00'), Timestamp('2016-05-23 00:00:00'), Timestamp('2016-05-24 00:00:00'), Timestamp('2016-05-25 00:00:00'), Timestamp('2016-05-26 00:00:00'), Timestamp('2016-05-27 00:00:00'), Timestamp('2016-05-31 00:00:00'), Timestamp('2016-06-01 00:00:00'), Timestamp('2016-06-02 00:00:00'), Timestamp('2016-06-03 00:00:00'), Timestamp('2016-06-06 00:00:00'), Timestamp('2016-06-07 00:00:00'), Timestamp('2016-06-08 00:00:00'), Timestamp('2016-06-09 00:00:00'), Timestamp('2016-06-10 00:00:00'), Timestamp('2016-06-13 00:00:00'), Timestamp('2016-06-14 00:00:00'), Timestamp('2016-06-15 00:00:00'), Timestamp('2016-06-16 00:00:00'), Timestamp('2016-06-17 00:00:00'), Timestamp('2016-06-20 00:00:00'), Timestamp('2016-06-21 00:00:00'), Timestamp('2016-06-22 00:00:00'), Timestamp('2016-06-23 00:00:00'), Timestamp('2016-06-24 00:00:00'), Timestamp('2016-06-27 00:00:00'), Timestamp('2016-06-28 00:00:00'), Timestamp('2016-06-29 00:00:00'), Timestamp('2016-06-30 00:00:00'), Timestamp('2016-07-01 00:00:00'), Timestamp('2016-07-05 00:00:00'), Timestamp('2016-07-06 00:00:00'), Timestamp('2016-07-07 00:00:00'), Timestamp('2016-07-08 00:00:00'), Timestamp('2016-07-11 00:00:00'), Timestamp('2016-07-12 00:00:00'), Timestamp('2016-07-13 00:00:00'), Timestamp('2016-07-14 00:00:00'), Timestamp('2016-07-15 00:00:00'), Timestamp('2016-07-18 00:00:00'), Timestamp('2016-07-19 00:00:00'), Timestamp('2016-07-20 00:00:00'), Timestamp('2016-07-21 00:00:00'), Timestamp('2016-07-22 00:00:00'), Timestamp('2016-07-25 00:00:00'), Timestamp('2016-07-26 00:00:00'), Timestamp('2016-07-27 00:00:00'), Timestamp('2016-07-28 00:00:00'), Timestamp('2016-07-29 00:00:00'), Timestamp('2016-08-01 00:00:00'), Timestamp('2016-08-02 00:00:00'), Timestamp('2016-08-03 00:00:00'), Timestamp('2016-08-04 00:00:00'), Timestamp('2016-08-05 00:00:00'), Timestamp('2016-08-08 00:00:00'), Timestamp('2016-08-09 00:00:00'), Timestamp('2016-08-10 00:00:00'), Timestamp('2016-08-11 00:00:00'), Timestamp('2016-08-12 00:00:00'), Timestamp('2016-08-15 00:00:00'), Timestamp('2016-08-16 00:00:00'), Timestamp('2016-08-17 00:00:00'), Timestamp('2016-08-18 00:00:00'), Timestamp('2016-08-19 00:00:00'), Timestamp('2016-08-22 00:00:00'), Timestamp('2016-08-23 00:00:00'), Timestamp('2016-08-24 00:00:00'), Timestamp('2016-08-25 00:00:00'), Timestamp('2016-08-26 00:00:00'), Timestamp('2016-08-29 00:00:00'), Timestamp('2016-08-30 00:00:00'), Timestamp('2016-08-31 00:00:00'), Timestamp('2016-09-01 00:00:00'), Timestamp('2016-09-02 00:00:00'), Timestamp('2016-09-06 00:00:00'), Timestamp('2016-09-07 00:00:00'), Timestamp('2016-09-08 00:00:00'), Timestamp('2016-09-09 00:00:00'), Timestamp('2016-09-12 00:00:00'), Timestamp('2016-09-13 00:00:00'), Timestamp('2016-09-14 00:00:00'), Timestamp('2016-09-15 00:00:00'), Timestamp('2016-09-16 00:00:00'), Timestamp('2016-09-19 00:00:00'), Timestamp('2016-09-20 00:00:00'), Timestamp('2016-09-21 00:00:00'), Timestamp('2016-09-22 00:00:00'), Timestamp('2016-09-23 00:00:00'), Timestamp('2016-09-26 00:00:00'), Timestamp('2016-09-27 00:00:00'), Timestamp('2016-09-28 00:00:00'), Timestamp('2016-09-29 00:00:00'), Timestamp('2016-09-30 00:00:00'), Timestamp('2016-10-03 00:00:00'), Timestamp('2016-10-04 00:00:00'), Timestamp('2016-10-05 00:00:00'), Timestamp('2016-10-06 00:00:00'), Timestamp('2016-10-07 00:00:00'), Timestamp('2016-10-10 00:00:00'), Timestamp('2016-10-11 00:00:00'), Timestamp('2016-10-12 00:00:00'), Timestamp('2016-10-13 00:00:00'), Timestamp('2016-10-14 00:00:00'), Timestamp('2016-10-17 00:00:00'), Timestamp('2016-10-18 00:00:00'), Timestamp('2016-10-19 00:00:00'), Timestamp('2016-10-20 00:00:00'), Timestamp('2016-10-21 00:00:00'), Timestamp('2016-10-24 00:00:00'), Timestamp('2016-10-25 00:00:00'), Timestamp('2016-10-26 00:00:00'), Timestamp('2016-10-27 00:00:00'), Timestamp('2016-10-28 00:00:00'), Timestamp('2016-10-31 00:00:00'), Timestamp('2016-11-01 00:00:00'), Timestamp('2016-11-02 00:00:00'), Timestamp('2016-11-03 00:00:00'), Timestamp('2016-11-04 00:00:00'), Timestamp('2016-11-07 00:00:00'), Timestamp('2016-11-08 00:00:00'), Timestamp('2016-11-09 00:00:00'), Timestamp('2016-11-10 00:00:00'), Timestamp('2016-11-11 00:00:00'), Timestamp('2016-11-14 00:00:00'), Timestamp('2016-11-15 00:00:00'), Timestamp('2016-11-16 00:00:00'), Timestamp('2016-11-17 00:00:00'), Timestamp('2016-11-18 00:00:00'), Timestamp('2016-11-21 00:00:00'), Timestamp('2016-11-22 00:00:00'), Timestamp('2016-11-23 00:00:00'), Timestamp('2016-11-25 00:00:00'), Timestamp('2016-11-28 00:00:00'), Timestamp('2016-11-29 00:00:00'), Timestamp('2016-11-30 00:00:00'), Timestamp('2016-12-01 00:00:00'), Timestamp('2016-12-02 00:00:00'), Timestamp('2016-12-05 00:00:00'), Timestamp('2016-12-06 00:00:00'), Timestamp('2016-12-07 00:00:00'), Timestamp('2016-12-08 00:00:00'), Timestamp('2016-12-09 00:00:00'), Timestamp('2016-12-12 00:00:00'), Timestamp('2016-12-13 00:00:00'), Timestamp('2016-12-14 00:00:00'), Timestamp('2016-12-15 00:00:00'), Timestamp('2016-12-16 00:00:00'), Timestamp('2016-12-19 00:00:00'), Timestamp('2016-12-20 00:00:00'), Timestamp('2016-12-21 00:00:00'), Timestamp('2016-12-22 00:00:00'), Timestamp('2016-12-23 00:00:00'), Timestamp('2016-12-27 00:00:00'), Timestamp('2016-12-28 00:00:00'), Timestamp('2016-12-29 00:00:00'), Timestamp('2016-12-30 00:00:00'), Timestamp('2017-01-03 00:00:00'), Timestamp('2017-01-04 00:00:00'), Timestamp('2017-01-05 00:00:00'), Timestamp('2017-01-06 00:00:00'), Timestamp('2017-01-09 00:00:00'), Timestamp('2017-01-10 00:00:00'), Timestamp('2017-01-11 00:00:00'), Timestamp('2017-01-12 00:00:00'), Timestamp('2017-01-13 00:00:00'), Timestamp('2017-01-17 00:00:00'), Timestamp('2017-01-18 00:00:00'), Timestamp('2017-01-19 00:00:00'), Timestamp('2017-01-20 00:00:00'), Timestamp('2017-01-23 00:00:00'), Timestamp('2017-01-24 00:00:00'), Timestamp('2017-01-25 00:00:00'), Timestamp('2017-01-26 00:00:00'), Timestamp('2017-01-27 00:00:00'), Timestamp('2017-01-30 00:00:00'), Timestamp('2017-01-31 00:00:00'), Timestamp('2017-02-01 00:00:00'), Timestamp('2017-02-02 00:00:00'), Timestamp('2017-02-03 00:00:00'), Timestamp('2017-02-06 00:00:00'), Timestamp('2017-02-07 00:00:00'), Timestamp('2017-02-08 00:00:00'), Timestamp('2017-02-09 00:00:00'), Timestamp('2017-02-10 00:00:00'), Timestamp('2017-02-13 00:00:00'), Timestamp('2017-02-14 00:00:00'), Timestamp('2017-02-15 00:00:00'), Timestamp('2017-02-16 00:00:00'), Timestamp('2017-02-17 00:00:00'), Timestamp('2017-02-21 00:00:00'), Timestamp('2017-02-22 00:00:00'), Timestamp('2017-02-23 00:00:00'), Timestamp('2017-02-24 00:00:00'), Timestamp('2017-02-27 00:00:00'), Timestamp('2017-02-28 00:00:00'), Timestamp('2017-03-01 00:00:00'), Timestamp('2017-03-02 00:00:00'), Timestamp('2017-03-03 00:00:00'), Timestamp('2017-03-06 00:00:00'), Timestamp('2017-03-07 00:00:00'), Timestamp('2017-03-08 00:00:00'), Timestamp('2017-03-09 00:00:00'), Timestamp('2017-03-10 00:00:00'), Timestamp('2017-03-13 00:00:00'), Timestamp('2017-03-14 00:00:00'), Timestamp('2017-03-15 00:00:00'), Timestamp('2017-03-16 00:00:00'), Timestamp('2017-03-17 00:00:00'), Timestamp('2017-03-20 00:00:00'), Timestamp('2017-03-21 00:00:00'), Timestamp('2017-03-22 00:00:00'), Timestamp('2017-03-23 00:00:00'), Timestamp('2017-03-24 00:00:00'), Timestamp('2017-03-27 00:00:00'), Timestamp('2017-03-28 00:00:00'), Timestamp('2017-03-29 00:00:00'), Timestamp('2017-03-30 00:00:00'), Timestamp('2017-03-31 00:00:00'), Timestamp('2017-04-03 00:00:00'), Timestamp('2017-04-04 00:00:00'), Timestamp('2017-04-05 00:00:00'), Timestamp('2017-04-06 00:00:00'), Timestamp('2017-04-07 00:00:00'), Timestamp('2017-04-10 00:00:00'), Timestamp('2017-04-11 00:00:00'), Timestamp('2017-04-12 00:00:00'), Timestamp('2017-04-13 00:00:00'), Timestamp('2017-04-17 00:00:00'), Timestamp('2017-04-18 00:00:00'), Timestamp('2017-04-19 00:00:00'), Timestamp('2017-04-20 00:00:00'), Timestamp('2017-04-21 00:00:00'), Timestamp('2017-04-24 00:00:00'), Timestamp('2017-04-25 00:00:00'), Timestamp('2017-04-26 00:00:00'), Timestamp('2017-04-27 00:00:00'), Timestamp('2017-04-28 00:00:00'), Timestamp('2017-05-01 00:00:00'), Timestamp('2017-05-02 00:00:00'), Timestamp('2017-05-03 00:00:00'), Timestamp('2017-05-04 00:00:00'), Timestamp('2017-05-05 00:00:00'), Timestamp('2017-05-08 00:00:00'), Timestamp('2017-05-09 00:00:00'), Timestamp('2017-05-10 00:00:00'), Timestamp('2017-05-11 00:00:00'), Timestamp('2017-05-12 00:00:00'), Timestamp('2017-05-15 00:00:00'), Timestamp('2017-05-16 00:00:00'), Timestamp('2017-05-17 00:00:00'), Timestamp('2017-05-18 00:00:00'), Timestamp('2017-05-19 00:00:00'), Timestamp('2017-05-22 00:00:00'), Timestamp('2017-05-23 00:00:00'), Timestamp('2017-05-24 00:00:00'), Timestamp('2017-05-25 00:00:00'), Timestamp('2017-05-26 00:00:00'), Timestamp('2017-05-30 00:00:00'), Timestamp('2017-05-31 00:00:00'), Timestamp('2017-06-01 00:00:00'), Timestamp('2017-06-02 00:00:00'), Timestamp('2017-06-05 00:00:00'), Timestamp('2017-06-06 00:00:00'), Timestamp('2017-06-07 00:00:00'), Timestamp('2017-06-08 00:00:00'), Timestamp('2017-06-09 00:00:00'), Timestamp('2017-06-12 00:00:00'), Timestamp('2017-06-13 00:00:00'), Timestamp('2017-06-14 00:00:00'), Timestamp('2017-06-15 00:00:00'), Timestamp('2017-06-16 00:00:00'), Timestamp('2017-06-19 00:00:00'), Timestamp('2017-06-20 00:00:00'), Timestamp('2017-06-21 00:00:00'), Timestamp('2017-06-22 00:00:00'), Timestamp('2017-06-23 00:00:00'), Timestamp('2017-06-26 00:00:00'), Timestamp('2017-06-27 00:00:00'), Timestamp('2017-06-28 00:00:00'), Timestamp('2017-06-29 00:00:00'), Timestamp('2017-06-30 00:00:00'), Timestamp('2017-07-03 00:00:00'), Timestamp('2017-07-05 00:00:00'), Timestamp('2017-07-06 00:00:00'), Timestamp('2017-07-07 00:00:00'), Timestamp('2017-07-10 00:00:00'), Timestamp('2017-07-11 00:00:00'), Timestamp('2017-07-12 00:00:00'), Timestamp('2017-07-13 00:00:00'), Timestamp('2017-07-14 00:00:00'), Timestamp('2017-07-17 00:00:00'), Timestamp('2017-07-18 00:00:00'), Timestamp('2017-07-19 00:00:00'), Timestamp('2017-07-20 00:00:00'), Timestamp('2017-07-21 00:00:00'), Timestamp('2017-07-24 00:00:00'), Timestamp('2017-07-25 00:00:00'), Timestamp('2017-07-26 00:00:00'), Timestamp('2017-07-27 00:00:00'), Timestamp('2017-07-28 00:00:00'), Timestamp('2017-07-31 00:00:00'), Timestamp('2017-08-01 00:00:00'), Timestamp('2017-08-02 00:00:00'), Timestamp('2017-08-03 00:00:00'), Timestamp('2017-08-04 00:00:00'), Timestamp('2017-08-07 00:00:00'), Timestamp('2017-08-08 00:00:00'), Timestamp('2017-08-09 00:00:00'), Timestamp('2017-08-10 00:00:00'), Timestamp('2017-08-11 00:00:00'), Timestamp('2017-08-14 00:00:00'), Timestamp('2017-08-15 00:00:00'), Timestamp('2017-08-16 00:00:00'), Timestamp('2017-08-17 00:00:00'), Timestamp('2017-08-18 00:00:00'), Timestamp('2017-08-21 00:00:00'), Timestamp('2017-08-22 00:00:00'), Timestamp('2017-08-23 00:00:00'), Timestamp('2017-08-24 00:00:00'), Timestamp('2017-08-25 00:00:00'), Timestamp('2017-08-28 00:00:00'), Timestamp('2017-08-29 00:00:00'), Timestamp('2017-08-30 00:00:00'), Timestamp('2017-08-31 00:00:00'), Timestamp('2017-09-01 00:00:00'), Timestamp('2017-09-05 00:00:00'), Timestamp('2017-09-06 00:00:00'), Timestamp('2017-09-07 00:00:00'), Timestamp('2017-09-08 00:00:00'), Timestamp('2017-09-11 00:00:00'), Timestamp('2017-09-12 00:00:00'), Timestamp('2017-09-13 00:00:00'), Timestamp('2017-09-14 00:00:00'), Timestamp('2017-09-15 00:00:00'), Timestamp('2017-09-18 00:00:00'), Timestamp('2017-09-19 00:00:00'), Timestamp('2017-09-20 00:00:00'), Timestamp('2017-09-21 00:00:00'), Timestamp('2017-09-22 00:00:00'), Timestamp('2017-09-25 00:00:00'), Timestamp('2017-09-26 00:00:00'), Timestamp('2017-09-27 00:00:00'), Timestamp('2017-09-28 00:00:00'), Timestamp('2017-09-29 00:00:00'), Timestamp('2017-10-02 00:00:00'), Timestamp('2017-10-03 00:00:00'), Timestamp('2017-10-04 00:00:00'), Timestamp('2017-10-05 00:00:00'), Timestamp('2017-10-06 00:00:00'), Timestamp('2017-10-09 00:00:00'), Timestamp('2017-10-10 00:00:00'), Timestamp('2017-10-11 00:00:00'), Timestamp('2017-10-12 00:00:00'), Timestamp('2017-10-13 00:00:00'), Timestamp('2017-10-16 00:00:00'), Timestamp('2017-10-17 00:00:00'), Timestamp('2017-10-18 00:00:00'), Timestamp('2017-10-19 00:00:00'), Timestamp('2017-10-20 00:00:00'), Timestamp('2017-10-23 00:00:00'), Timestamp('2017-10-24 00:00:00'), Timestamp('2017-10-25 00:00:00'), Timestamp('2017-10-26 00:00:00'), Timestamp('2017-10-27 00:00:00'), Timestamp('2017-10-30 00:00:00'), Timestamp('2017-10-31 00:00:00'), Timestamp('2017-11-01 00:00:00'), Timestamp('2017-11-02 00:00:00'), Timestamp('2017-11-03 00:00:00'), Timestamp('2017-11-06 00:00:00'), Timestamp('2017-11-07 00:00:00'), Timestamp('2017-11-08 00:00:00'), Timestamp('2017-11-09 00:00:00'), Timestamp('2017-11-10 00:00:00'), Timestamp('2017-11-13 00:00:00'), Timestamp('2017-11-14 00:00:00'), Timestamp('2017-11-15 00:00:00'), Timestamp('2017-11-16 00:00:00'), Timestamp('2017-11-17 00:00:00'), Timestamp('2017-11-20 00:00:00'), Timestamp('2017-11-21 00:00:00'), Timestamp('2017-11-22 00:00:00'), Timestamp('2017-11-24 00:00:00'), Timestamp('2017-11-27 00:00:00'), Timestamp('2017-11-28 00:00:00'), Timestamp('2017-11-29 00:00:00'), Timestamp('2017-11-30 00:00:00'), Timestamp('2017-12-01 00:00:00'), Timestamp('2017-12-04 00:00:00'), Timestamp('2017-12-05 00:00:00'), Timestamp('2017-12-06 00:00:00'), Timestamp('2017-12-07 00:00:00'), Timestamp('2017-12-08 00:00:00'), Timestamp('2017-12-11 00:00:00'), Timestamp('2017-12-12 00:00:00'), Timestamp('2017-12-13 00:00:00'), Timestamp('2017-12-14 00:00:00'), Timestamp('2017-12-15 00:00:00'), Timestamp('2017-12-18 00:00:00'), Timestamp('2017-12-19 00:00:00'), Timestamp('2017-12-20 00:00:00'), Timestamp('2017-12-21 00:00:00'), Timestamp('2017-12-22 00:00:00'), Timestamp('2017-12-26 00:00:00'), Timestamp('2017-12-27 00:00:00'), Timestamp('2017-12-28 00:00:00'), Timestamp('2017-12-29 00:00:00'), Timestamp('2018-01-02 00:00:00'), Timestamp('2018-01-03 00:00:00'), Timestamp('2018-01-04 00:00:00'), Timestamp('2018-01-05 00:00:00'), Timestamp('2018-01-08 00:00:00'), Timestamp('2018-01-09 00:00:00'), Timestamp('2018-01-10 00:00:00'), Timestamp('2018-01-11 00:00:00'), Timestamp('2018-01-12 00:00:00'), Timestamp('2018-01-16 00:00:00'), Timestamp('2018-01-17 00:00:00'), Timestamp('2018-01-18 00:00:00'), Timestamp('2018-01-19 00:00:00'), Timestamp('2018-01-22 00:00:00'), Timestamp('2018-01-23 00:00:00'), Timestamp('2018-01-24 00:00:00'), Timestamp('2018-01-25 00:00:00'), Timestamp('2018-01-26 00:00:00'), Timestamp('2018-01-29 00:00:00'), Timestamp('2018-01-30 00:00:00'), Timestamp('2018-01-31 00:00:00'), Timestamp('2018-02-01 00:00:00'), Timestamp('2018-02-02 00:00:00'), Timestamp('2018-02-05 00:00:00'), Timestamp('2018-02-06 00:00:00'), Timestamp('2018-02-07 00:00:00'), Timestamp('2018-02-08 00:00:00'), Timestamp('2018-02-09 00:00:00'), Timestamp('2018-02-12 00:00:00'), Timestamp('2018-02-13 00:00:00'), Timestamp('2018-02-14 00:00:00'), Timestamp('2018-02-15 00:00:00'), Timestamp('2018-02-16 00:00:00'), Timestamp('2018-02-20 00:00:00'), Timestamp('2018-02-21 00:00:00'), Timestamp('2018-02-22 00:00:00'), Timestamp('2018-02-23 00:00:00'), Timestamp('2018-02-26 00:00:00'), Timestamp('2018-02-27 00:00:00'), Timestamp('2018-02-28 00:00:00'), Timestamp('2018-03-01 00:00:00'), Timestamp('2018-03-02 00:00:00'), Timestamp('2018-03-05 00:00:00'), Timestamp('2018-03-06 00:00:00'), Timestamp('2018-03-07 00:00:00'), Timestamp('2018-03-08 00:00:00'), Timestamp('2018-03-09 00:00:00'), Timestamp('2018-03-12 00:00:00'), Timestamp('2018-03-13 00:00:00'), Timestamp('2018-03-14 00:00:00'), Timestamp('2018-03-15 00:00:00'), Timestamp('2018-03-16 00:00:00'), Timestamp('2018-03-19 00:00:00'), Timestamp('2018-03-20 00:00:00'), Timestamp('2018-03-21 00:00:00'), Timestamp('2018-03-22 00:00:00'), Timestamp('2018-03-23 00:00:00'), Timestamp('2018-03-26 00:00:00'), Timestamp('2018-03-27 00:00:00'), Timestamp('2018-03-28 00:00:00'), Timestamp('2018-03-29 00:00:00'), Timestamp('2018-04-02 00:00:00'), Timestamp('2018-04-03 00:00:00'), Timestamp('2018-04-04 00:00:00'), Timestamp('2018-04-05 00:00:00'), Timestamp('2018-04-06 00:00:00'), Timestamp('2018-04-09 00:00:00'), Timestamp('2018-04-10 00:00:00'), Timestamp('2018-04-11 00:00:00'), Timestamp('2018-04-12 00:00:00'), Timestamp('2018-04-13 00:00:00'), Timestamp('2018-04-16 00:00:00'), Timestamp('2018-04-17 00:00:00'), Timestamp('2018-04-18 00:00:00'), Timestamp('2018-04-19 00:00:00'), Timestamp('2018-04-20 00:00:00'), Timestamp('2018-04-23 00:00:00'), Timestamp('2018-04-24 00:00:00'), Timestamp('2018-04-25 00:00:00'), Timestamp('2018-04-26 00:00:00'), Timestamp('2018-04-27 00:00:00'), Timestamp('2018-04-30 00:00:00'), Timestamp('2018-05-01 00:00:00'), Timestamp('2018-05-02 00:00:00'), Timestamp('2018-05-03 00:00:00'), Timestamp('2018-05-04 00:00:00'), Timestamp('2018-05-07 00:00:00'), Timestamp('2018-05-08 00:00:00'), Timestamp('2018-05-09 00:00:00'), Timestamp('2018-05-10 00:00:00'), Timestamp('2018-05-11 00:00:00'), Timestamp('2018-05-14 00:00:00'), Timestamp('2018-05-15 00:00:00'), Timestamp('2018-05-16 00:00:00'), Timestamp('2018-05-17 00:00:00'), Timestamp('2018-05-18 00:00:00'), Timestamp('2018-05-21 00:00:00'), Timestamp('2018-05-22 00:00:00'), Timestamp('2018-05-23 00:00:00'), Timestamp('2018-05-24 00:00:00'), Timestamp('2018-05-25 00:00:00'), Timestamp('2018-05-29 00:00:00'), Timestamp('2018-05-30 00:00:00'), Timestamp('2018-05-31 00:00:00'), Timestamp('2018-06-01 00:00:00'), Timestamp('2018-06-04 00:00:00'), Timestamp('2018-06-05 00:00:00'), Timestamp('2018-06-06 00:00:00'), Timestamp('2018-06-07 00:00:00'), Timestamp('2018-06-08 00:00:00'), Timestamp('2018-06-11 00:00:00'), Timestamp('2018-06-12 00:00:00'), Timestamp('2018-06-13 00:00:00'), Timestamp('2018-06-14 00:00:00'), Timestamp('2018-06-15 00:00:00'), Timestamp('2018-06-18 00:00:00'), Timestamp('2018-06-19 00:00:00'), Timestamp('2018-06-20 00:00:00'), Timestamp('2018-06-21 00:00:00'), Timestamp('2018-06-22 00:00:00'), Timestamp('2018-06-25 00:00:00'), Timestamp('2018-06-26 00:00:00'), Timestamp('2018-06-27 00:00:00'), Timestamp('2018-06-28 00:00:00'), Timestamp('2018-06-29 00:00:00'), Timestamp('2018-07-02 00:00:00'), Timestamp('2018-07-03 00:00:00'), Timestamp('2018-07-05 00:00:00'), Timestamp('2018-07-06 00:00:00'), Timestamp('2018-07-09 00:00:00'), Timestamp('2018-07-10 00:00:00'), Timestamp('2018-07-11 00:00:00'), Timestamp('2018-07-12 00:00:00'), Timestamp('2018-07-13 00:00:00'), Timestamp('2018-07-16 00:00:00'), Timestamp('2018-07-17 00:00:00'), Timestamp('2018-07-18 00:00:00'), Timestamp('2018-07-19 00:00:00'), Timestamp('2018-07-20 00:00:00'), Timestamp('2018-07-23 00:00:00'), Timestamp('2018-07-24 00:00:00'), Timestamp('2018-07-25 00:00:00'), Timestamp('2018-07-26 00:00:00'), Timestamp('2018-07-27 00:00:00'), Timestamp('2018-07-30 00:00:00'), Timestamp('2018-07-31 00:00:00'), Timestamp('2018-08-01 00:00:00'), Timestamp('2018-08-02 00:00:00'), Timestamp('2018-08-03 00:00:00'), Timestamp('2018-08-06 00:00:00'), Timestamp('2018-08-07 00:00:00'), Timestamp('2018-08-08 00:00:00'), Timestamp('2018-08-09 00:00:00'), Timestamp('2018-08-10 00:00:00'), Timestamp('2018-08-13 00:00:00'), Timestamp('2018-08-14 00:00:00'), Timestamp('2018-08-15 00:00:00'), Timestamp('2018-08-16 00:00:00'), Timestamp('2018-08-17 00:00:00'), Timestamp('2018-08-20 00:00:00'), Timestamp('2018-08-21 00:00:00'), Timestamp('2018-08-22 00:00:00'), Timestamp('2018-08-23 00:00:00'), Timestamp('2018-08-24 00:00:00'), Timestamp('2018-08-27 00:00:00'), Timestamp('2018-08-28 00:00:00'), Timestamp('2018-08-29 00:00:00'), Timestamp('2018-08-30 00:00:00'), Timestamp('2018-08-31 00:00:00'), Timestamp('2018-09-04 00:00:00'), Timestamp('2018-09-05 00:00:00'), Timestamp('2018-09-06 00:00:00'), Timestamp('2018-09-07 00:00:00'), Timestamp('2018-09-10 00:00:00'), Timestamp('2018-09-11 00:00:00'), Timestamp('2018-09-12 00:00:00'), Timestamp('2018-09-13 00:00:00'), Timestamp('2018-09-14 00:00:00'), Timestamp('2018-09-17 00:00:00'), Timestamp('2018-09-18 00:00:00'), Timestamp('2018-09-19 00:00:00'), Timestamp('2018-09-20 00:00:00'), Timestamp('2018-09-21 00:00:00'), Timestamp('2018-09-24 00:00:00'), Timestamp('2018-09-25 00:00:00'), Timestamp('2018-09-26 00:00:00'), Timestamp('2018-09-27 00:00:00'), Timestamp('2018-09-28 00:00:00'), Timestamp('2018-10-01 00:00:00'), Timestamp('2018-10-02 00:00:00'), Timestamp('2018-10-03 00:00:00'), Timestamp('2018-10-04 00:00:00'), Timestamp('2018-10-05 00:00:00'), Timestamp('2018-10-08 00:00:00'), Timestamp('2018-10-09 00:00:00'), Timestamp('2018-10-10 00:00:00'), Timestamp('2018-10-11 00:00:00'), Timestamp('2018-10-12 00:00:00'), Timestamp('2018-10-15 00:00:00'), Timestamp('2018-10-16 00:00:00'), Timestamp('2018-10-17 00:00:00'), Timestamp('2018-10-18 00:00:00'), Timestamp('2018-10-19 00:00:00'), Timestamp('2018-10-22 00:00:00'), Timestamp('2018-10-23 00:00:00'), Timestamp('2018-10-24 00:00:00'), Timestamp('2018-10-25 00:00:00'), Timestamp('2018-10-26 00:00:00'), Timestamp('2018-10-29 00:00:00'), Timestamp('2018-10-30 00:00:00'), Timestamp('2018-10-31 00:00:00'), Timestamp('2018-11-01 00:00:00'), Timestamp('2018-11-02 00:00:00'), Timestamp('2018-11-05 00:00:00'), Timestamp('2018-11-06 00:00:00'), Timestamp('2018-11-07 00:00:00'), Timestamp('2018-11-08 00:00:00'), Timestamp('2018-11-09 00:00:00'), Timestamp('2018-11-12 00:00:00'), Timestamp('2018-11-13 00:00:00'), Timestamp('2018-11-14 00:00:00'), Timestamp('2018-11-15 00:00:00'), Timestamp('2018-11-16 00:00:00'), Timestamp('2018-11-19 00:00:00'), Timestamp('2018-11-20 00:00:00'), Timestamp('2018-11-21 00:00:00'), Timestamp('2018-11-23 00:00:00'), Timestamp('2018-11-26 00:00:00'), Timestamp('2018-11-27 00:00:00'), Timestamp('2018-11-28 00:00:00'), Timestamp('2018-11-29 00:00:00'), Timestamp('2018-11-30 00:00:00'), Timestamp('2018-12-03 00:00:00'), Timestamp('2018-12-04 00:00:00'), Timestamp('2018-12-06 00:00:00'), Timestamp('2018-12-07 00:00:00'), Timestamp('2018-12-10 00:00:00'), Timestamp('2018-12-11 00:00:00'), Timestamp('2018-12-12 00:00:00'), Timestamp('2018-12-13 00:00:00'), Timestamp('2018-12-14 00:00:00'), Timestamp('2018-12-17 00:00:00'), Timestamp('2018-12-18 00:00:00'), Timestamp('2018-12-19 00:00:00'), Timestamp('2018-12-20 00:00:00'), Timestamp('2018-12-21 00:00:00'), Timestamp('2018-12-24 00:00:00'), Timestamp('2018-12-26 00:00:00'), Timestamp('2018-12-27 00:00:00'), Timestamp('2018-12-28 00:00:00'), Timestamp('2018-12-31 00:00:00'), Timestamp('2019-01-02 00:00:00'), Timestamp('2019-01-03 00:00:00'), Timestamp('2019-01-04 00:00:00'), Timestamp('2019-01-07 00:00:00'), Timestamp('2019-01-08 00:00:00'), Timestamp('2019-01-09 00:00:00'), Timestamp('2019-01-10 00:00:00'), Timestamp('2019-01-11 00:00:00'), Timestamp('2019-01-14 00:00:00'), Timestamp('2019-01-15 00:00:00'), Timestamp('2019-01-16 00:00:00'), Timestamp('2019-01-17 00:00:00'), Timestamp('2019-01-18 00:00:00'), Timestamp('2019-01-22 00:00:00'), Timestamp('2019-01-23 00:00:00'), Timestamp('2019-01-24 00:00:00'), Timestamp('2019-01-25 00:00:00'), Timestamp('2019-01-28 00:00:00'), Timestamp('2019-01-29 00:00:00'), Timestamp('2019-01-30 00:00:00'), Timestamp('2019-01-31 00:00:00'), Timestamp('2019-02-01 00:00:00'), Timestamp('2019-02-04 00:00:00'), Timestamp('2019-02-05 00:00:00'), Timestamp('2019-02-06 00:00:00'), Timestamp('2019-02-07 00:00:00'), Timestamp('2019-02-08 00:00:00'), Timestamp('2019-02-11 00:00:00'), Timestamp('2019-02-12 00:00:00'), Timestamp('2019-02-13 00:00:00'), Timestamp('2019-02-14 00:00:00'), Timestamp('2019-02-15 00:00:00'), Timestamp('2019-02-19 00:00:00'), Timestamp('2019-02-20 00:00:00'), Timestamp('2019-02-21 00:00:00'), Timestamp('2019-02-22 00:00:00'), Timestamp('2019-02-25 00:00:00'), Timestamp('2019-02-26 00:00:00'), Timestamp('2019-02-27 00:00:00'), Timestamp('2019-02-28 00:00:00'), Timestamp('2019-03-01 00:00:00'), Timestamp('2019-03-04 00:00:00'), Timestamp('2019-03-05 00:00:00'), Timestamp('2019-03-06 00:00:00'), Timestamp('2019-03-07 00:00:00'), Timestamp('2019-03-08 00:00:00'), Timestamp('2019-03-11 00:00:00'), Timestamp('2019-03-12 00:00:00'), Timestamp('2019-03-13 00:00:00'), Timestamp('2019-03-14 00:00:00'), Timestamp('2019-03-15 00:00:00'), Timestamp('2019-03-18 00:00:00'), Timestamp('2019-03-19 00:00:00'), Timestamp('2019-03-20 00:00:00'), Timestamp('2019-03-21 00:00:00'), Timestamp('2019-03-22 00:00:00'), Timestamp('2019-03-25 00:00:00'), Timestamp('2019-03-26 00:00:00'), Timestamp('2019-03-27 00:00:00'), Timestamp('2019-03-28 00:00:00'), Timestamp('2019-03-29 00:00:00'), Timestamp('2019-04-01 00:00:00'), Timestamp('2019-04-02 00:00:00'), Timestamp('2019-04-03 00:00:00'), Timestamp('2019-04-04 00:00:00'), Timestamp('2019-04-05 00:00:00'), Timestamp('2019-04-08 00:00:00'), Timestamp('2019-04-09 00:00:00'), Timestamp('2019-04-10 00:00:00'), Timestamp('2019-04-11 00:00:00'), Timestamp('2019-04-12 00:00:00'), Timestamp('2019-04-15 00:00:00'), Timestamp('2019-04-16 00:00:00'), Timestamp('2019-04-17 00:00:00'), Timestamp('2019-04-18 00:00:00'), Timestamp('2019-04-22 00:00:00'), Timestamp('2019-04-23 00:00:00'), Timestamp('2019-04-24 00:00:00'), Timestamp('2019-04-25 00:00:00'), Timestamp('2019-04-26 00:00:00'), Timestamp('2019-04-29 00:00:00'), Timestamp('2019-04-30 00:00:00'), Timestamp('2019-05-01 00:00:00'), Timestamp('2019-05-02 00:00:00'), Timestamp('2019-05-03 00:00:00'), Timestamp('2019-05-06 00:00:00'), Timestamp('2019-05-07 00:00:00'), Timestamp('2019-05-08 00:00:00'), Timestamp('2019-05-09 00:00:00'), Timestamp('2019-05-10 00:00:00'), Timestamp('2019-05-13 00:00:00'), Timestamp('2019-05-14 00:00:00'), Timestamp('2019-05-15 00:00:00'), Timestamp('2019-05-16 00:00:00'), Timestamp('2019-05-17 00:00:00'), Timestamp('2019-05-20 00:00:00'), Timestamp('2019-05-21 00:00:00'), Timestamp('2019-05-22 00:00:00'), Timestamp('2019-05-23 00:00:00'), Timestamp('2019-05-24 00:00:00'), Timestamp('2019-05-28 00:00:00'), Timestamp('2019-05-29 00:00:00'), Timestamp('2019-05-30 00:00:00'), Timestamp('2019-05-31 00:00:00'), Timestamp('2019-06-03 00:00:00'), Timestamp('2019-06-04 00:00:00'), Timestamp('2019-06-05 00:00:00'), Timestamp('2019-06-06 00:00:00'), Timestamp('2019-06-07 00:00:00'), Timestamp('2019-06-10 00:00:00'), Timestamp('2019-06-11 00:00:00'), Timestamp('2019-06-12 00:00:00'), Timestamp('2019-06-13 00:00:00'), Timestamp('2019-06-14 00:00:00'), Timestamp('2019-06-17 00:00:00'), Timestamp('2019-06-18 00:00:00'), Timestamp('2019-06-19 00:00:00'), Timestamp('2019-06-20 00:00:00'), Timestamp('2019-06-21 00:00:00'), Timestamp('2019-06-24 00:00:00'), Timestamp('2019-06-25 00:00:00'), Timestamp('2019-06-26 00:00:00'), Timestamp('2019-06-27 00:00:00'), Timestamp('2019-06-28 00:00:00'), Timestamp('2019-07-01 00:00:00'), Timestamp('2019-07-02 00:00:00'), Timestamp('2019-07-03 00:00:00'), Timestamp('2019-07-05 00:00:00'), Timestamp('2019-07-08 00:00:00'), Timestamp('2019-07-09 00:00:00'), Timestamp('2019-07-10 00:00:00'), Timestamp('2019-07-11 00:00:00'), Timestamp('2019-07-12 00:00:00'), Timestamp('2019-07-15 00:00:00'), Timestamp('2019-07-16 00:00:00'), Timestamp('2019-07-17 00:00:00'), Timestamp('2019-07-18 00:00:00'), Timestamp('2019-07-19 00:00:00'), Timestamp('2019-07-22 00:00:00'), Timestamp('2019-07-23 00:00:00'), Timestamp('2019-07-24 00:00:00'), Timestamp('2019-07-25 00:00:00'), Timestamp('2019-07-26 00:00:00'), Timestamp('2019-07-29 00:00:00'), Timestamp('2019-07-30 00:00:00'), Timestamp('2019-07-31 00:00:00'), Timestamp('2019-08-01 00:00:00'), Timestamp('2019-08-02 00:00:00'), Timestamp('2019-08-05 00:00:00'), Timestamp('2019-08-06 00:00:00'), Timestamp('2019-08-07 00:00:00'), Timestamp('2019-08-08 00:00:00'), Timestamp('2019-08-09 00:00:00'), Timestamp('2019-08-12 00:00:00'), Timestamp('2019-08-13 00:00:00'), Timestamp('2019-08-14 00:00:00'), Timestamp('2019-08-15 00:00:00'), Timestamp('2019-08-16 00:00:00'), Timestamp('2019-08-19 00:00:00'), Timestamp('2019-08-20 00:00:00'), Timestamp('2019-08-21 00:00:00'), Timestamp('2019-08-22 00:00:00'), Timestamp('2019-08-23 00:00:00'), Timestamp('2019-08-26 00:00:00'), Timestamp('2019-08-27 00:00:00'), Timestamp('2019-08-28 00:00:00'), Timestamp('2019-08-29 00:00:00'), Timestamp('2019-08-30 00:00:00'), Timestamp('2019-09-03 00:00:00'), Timestamp('2019-09-04 00:00:00'), Timestamp('2019-09-05 00:00:00'), Timestamp('2019-09-06 00:00:00'), Timestamp('2019-09-09 00:00:00'), Timestamp('2019-09-10 00:00:00'), Timestamp('2019-09-11 00:00:00'), Timestamp('2019-09-12 00:00:00'), Timestamp('2019-09-13 00:00:00'), Timestamp('2019-09-16 00:00:00'), Timestamp('2019-09-17 00:00:00'), Timestamp('2019-09-18 00:00:00'), Timestamp('2019-09-19 00:00:00'), Timestamp('2019-09-20 00:00:00'), Timestamp('2019-09-23 00:00:00'), Timestamp('2019-09-24 00:00:00'), Timestamp('2019-09-25 00:00:00'), Timestamp('2019-09-26 00:00:00'), Timestamp('2019-09-27 00:00:00'), Timestamp('2019-09-30 00:00:00'), Timestamp('2019-10-01 00:00:00'), Timestamp('2019-10-02 00:00:00'), Timestamp('2019-10-03 00:00:00'), Timestamp('2019-10-04 00:00:00'), Timestamp('2019-10-07 00:00:00'), Timestamp('2019-10-08 00:00:00'), Timestamp('2019-10-09 00:00:00'), Timestamp('2019-10-10 00:00:00'), Timestamp('2019-10-11 00:00:00'), Timestamp('2019-10-14 00:00:00'), Timestamp('2019-10-15 00:00:00'), Timestamp('2019-10-16 00:00:00'), Timestamp('2019-10-17 00:00:00'), Timestamp('2019-10-18 00:00:00'), Timestamp('2019-10-21 00:00:00'), Timestamp('2019-10-22 00:00:00'), Timestamp('2019-10-23 00:00:00'), Timestamp('2019-10-24 00:00:00'), Timestamp('2019-10-25 00:00:00'), Timestamp('2019-10-28 00:00:00'), Timestamp('2019-10-29 00:00:00'), Timestamp('2019-10-30 00:00:00'), Timestamp('2019-10-31 00:00:00'), Timestamp('2019-11-01 00:00:00'), Timestamp('2019-11-04 00:00:00'), Timestamp('2019-11-05 00:00:00'), Timestamp('2019-11-06 00:00:00'), Timestamp('2019-11-07 00:00:00'), Timestamp('2019-11-08 00:00:00'), Timestamp('2019-11-11 00:00:00'), Timestamp('2019-11-12 00:00:00'), Timestamp('2019-11-13 00:00:00'), Timestamp('2019-11-14 00:00:00'), Timestamp('2019-11-15 00:00:00'), Timestamp('2019-11-18 00:00:00'), Timestamp('2019-11-19 00:00:00'), Timestamp('2019-11-20 00:00:00'), Timestamp('2019-11-21 00:00:00'), Timestamp('2019-11-22 00:00:00'), Timestamp('2019-11-25 00:00:00'), Timestamp('2019-11-26 00:00:00'), Timestamp('2019-11-27 00:00:00'), Timestamp('2019-11-29 00:00:00'), Timestamp('2019-12-02 00:00:00'), Timestamp('2019-12-03 00:00:00'), Timestamp('2019-12-04 00:00:00'), Timestamp('2019-12-05 00:00:00'), Timestamp('2019-12-06 00:00:00'), Timestamp('2019-12-09 00:00:00'), Timestamp('2019-12-10 00:00:00'), Timestamp('2019-12-11 00:00:00'), Timestamp('2019-12-12 00:00:00'), Timestamp('2019-12-13 00:00:00'), Timestamp('2019-12-16 00:00:00'), Timestamp('2019-12-17 00:00:00'), Timestamp('2019-12-18 00:00:00'), Timestamp('2019-12-19 00:00:00'), Timestamp('2019-12-20 00:00:00'), Timestamp('2019-12-23 00:00:00'), Timestamp('2019-12-24 00:00:00'), Timestamp('2019-12-26 00:00:00'), Timestamp('2019-12-27 00:00:00'), Timestamp('2019-12-30 00:00:00'), Timestamp('2019-12-31 00:00:00'), Timestamp('2020-01-02 00:00:00'), Timestamp('2020-01-03 00:00:00'), Timestamp('2020-01-06 00:00:00'), Timestamp('2020-01-07 00:00:00'), Timestamp('2020-01-08 00:00:00'), Timestamp('2020-01-09 00:00:00'), Timestamp('2020-01-10 00:00:00'), Timestamp('2020-01-13 00:00:00'), Timestamp('2020-01-14 00:00:00'), Timestamp('2020-01-15 00:00:00'), Timestamp('2020-01-16 00:00:00'), Timestamp('2020-01-17 00:00:00'), Timestamp('2020-01-21 00:00:00'), Timestamp('2020-01-22 00:00:00'), Timestamp('2020-01-23 00:00:00'), Timestamp('2020-01-24 00:00:00'), Timestamp('2020-01-27 00:00:00'), Timestamp('2020-01-28 00:00:00'), Timestamp('2020-01-29 00:00:00'), Timestamp('2020-01-30 00:00:00'), Timestamp('2020-01-31 00:00:00'), Timestamp('2020-02-03 00:00:00'), Timestamp('2020-02-04 00:00:00'), Timestamp('2020-02-05 00:00:00'), Timestamp('2020-02-06 00:00:00'), Timestamp('2020-02-07 00:00:00'), Timestamp('2020-02-10 00:00:00'), Timestamp('2020-02-11 00:00:00'), Timestamp('2020-02-12 00:00:00'), Timestamp('2020-02-13 00:00:00'), Timestamp('2020-02-14 00:00:00'), Timestamp('2020-02-18 00:00:00'), Timestamp('2020-02-19 00:00:00'), Timestamp('2020-02-20 00:00:00'), Timestamp('2020-02-21 00:00:00'), Timestamp('2020-02-24 00:00:00'), Timestamp('2020-02-25 00:00:00'), Timestamp('2020-02-26 00:00:00'), Timestamp('2020-02-27 00:00:00'), Timestamp('2020-02-28 00:00:00'), Timestamp('2020-03-02 00:00:00'), Timestamp('2020-03-03 00:00:00'), Timestamp('2020-03-04 00:00:00'), Timestamp('2020-03-05 00:00:00'), Timestamp('2020-03-06 00:00:00'), Timestamp('2020-03-09 00:00:00'), Timestamp('2020-03-10 00:00:00'), Timestamp('2020-03-11 00:00:00'), Timestamp('2020-03-12 00:00:00'), Timestamp('2020-03-13 00:00:00'), Timestamp('2020-03-16 00:00:00'), Timestamp('2020-03-17 00:00:00'), Timestamp('2020-03-18 00:00:00'), Timestamp('2020-03-19 00:00:00'), Timestamp('2020-03-20 00:00:00'), Timestamp('2020-03-23 00:00:00'), Timestamp('2020-03-24 00:00:00'), Timestamp('2020-03-25 00:00:00'), Timestamp('2020-03-26 00:00:00'), Timestamp('2020-03-27 00:00:00'), Timestamp('2020-03-30 00:00:00'), Timestamp('2020-03-31 00:00:00'), Timestamp('2020-04-01 00:00:00'), Timestamp('2020-04-02 00:00:00'), Timestamp('2020-04-03 00:00:00'), Timestamp('2020-04-06 00:00:00'), Timestamp('2020-04-07 00:00:00'), Timestamp('2020-04-08 00:00:00'), Timestamp('2020-04-09 00:00:00'), Timestamp('2020-04-13 00:00:00'), Timestamp('2020-04-14 00:00:00'), Timestamp('2020-04-15 00:00:00'), Timestamp('2020-04-16 00:00:00'), Timestamp('2020-04-17 00:00:00'), Timestamp('2020-04-20 00:00:00'), Timestamp('2020-04-21 00:00:00'), Timestamp('2020-04-22 00:00:00'), Timestamp('2020-04-23 00:00:00'), Timestamp('2020-04-24 00:00:00'), Timestamp('2020-04-27 00:00:00'), Timestamp('2020-04-28 00:00:00'), Timestamp('2020-04-29 00:00:00'), Timestamp('2020-04-30 00:00:00'), Timestamp('2020-05-01 00:00:00'), Timestamp('2020-05-04 00:00:00'), Timestamp('2020-05-05 00:00:00'), Timestamp('2020-05-06 00:00:00'), Timestamp('2020-05-07 00:00:00'), Timestamp('2020-05-08 00:00:00'), Timestamp('2020-05-11 00:00:00'), Timestamp('2020-05-12 00:00:00'), Timestamp('2020-05-13 00:00:00'), Timestamp('2020-05-14 00:00:00'), Timestamp('2020-05-15 00:00:00'), Timestamp('2020-05-18 00:00:00'), Timestamp('2020-05-19 00:00:00'), Timestamp('2020-05-20 00:00:00'), Timestamp('2020-05-21 00:00:00'), Timestamp('2020-05-22 00:00:00'), Timestamp('2020-05-26 00:00:00'), Timestamp('2020-05-27 00:00:00'), Timestamp('2020-05-28 00:00:00'), Timestamp('2020-05-29 00:00:00'), Timestamp('2020-06-01 00:00:00'), Timestamp('2020-06-02 00:00:00'), Timestamp('2020-06-03 00:00:00'), Timestamp('2020-06-04 00:00:00'), Timestamp('2020-06-05 00:00:00'), Timestamp('2020-06-08 00:00:00'), Timestamp('2020-06-09 00:00:00'), Timestamp('2020-06-10 00:00:00'), Timestamp('2020-06-11 00:00:00'), Timestamp('2020-06-12 00:00:00'), Timestamp('2020-06-15 00:00:00'), Timestamp('2020-06-16 00:00:00'), Timestamp('2020-06-17 00:00:00'), Timestamp('2020-06-18 00:00:00'), Timestamp('2020-06-19 00:00:00'), Timestamp('2020-06-22 00:00:00'), Timestamp('2020-06-23 00:00:00'), Timestamp('2020-06-24 00:00:00'), Timestamp('2020-06-25 00:00:00'), Timestamp('2020-06-26 00:00:00'), Timestamp('2020-06-29 00:00:00'), Timestamp('2020-06-30 00:00:00'), Timestamp('2020-07-01 00:00:00'), Timestamp('2020-07-02 00:00:00'), Timestamp('2020-07-06 00:00:00'), Timestamp('2020-07-07 00:00:00'), Timestamp('2020-07-08 00:00:00'), Timestamp('2020-07-09 00:00:00'), Timestamp('2020-07-10 00:00:00'), Timestamp('2020-07-13 00:00:00'), Timestamp('2020-07-14 00:00:00'), Timestamp('2020-07-15 00:00:00'), Timestamp('2020-07-16 00:00:00'), Timestamp('2020-07-17 00:00:00'), Timestamp('2020-07-20 00:00:00'), Timestamp('2020-07-21 00:00:00'), Timestamp('2020-07-22 00:00:00'), Timestamp('2020-07-23 00:00:00'), Timestamp('2020-07-24 00:00:00'), Timestamp('2020-07-27 00:00:00'), Timestamp('2020-07-28 00:00:00'), Timestamp('2020-07-29 00:00:00'), Timestamp('2020-07-30 00:00:00'), Timestamp('2020-07-31 00:00:00'), Timestamp('2020-08-03 00:00:00'), Timestamp('2020-08-04 00:00:00'), Timestamp('2020-08-05 00:00:00'), Timestamp('2020-08-06 00:00:00'), Timestamp('2020-08-07 00:00:00'), Timestamp('2020-08-10 00:00:00'), Timestamp('2020-08-11 00:00:00'), Timestamp('2020-08-12 00:00:00'), Timestamp('2020-08-13 00:00:00'), Timestamp('2020-08-14 00:00:00'), Timestamp('2020-08-17 00:00:00'), Timestamp('2020-08-18 00:00:00'), Timestamp('2020-08-19 00:00:00'), Timestamp('2020-08-20 00:00:00'), Timestamp('2020-08-21 00:00:00'), Timestamp('2020-08-24 00:00:00'), Timestamp('2020-08-25 00:00:00'), Timestamp('2020-08-26 00:00:00'), Timestamp('2020-08-27 00:00:00'), Timestamp('2020-08-28 00:00:00'), Timestamp('2020-08-31 00:00:00'), Timestamp('2020-09-01 00:00:00'), Timestamp('2020-09-02 00:00:00'), Timestamp('2020-09-03 00:00:00'), Timestamp('2020-09-04 00:00:00'), Timestamp('2020-09-08 00:00:00'), Timestamp('2020-09-09 00:00:00'), Timestamp('2020-09-10 00:00:00'), Timestamp('2020-09-11 00:00:00'), Timestamp('2020-09-14 00:00:00'), Timestamp('2020-09-15 00:00:00'), Timestamp('2020-09-16 00:00:00'), Timestamp('2020-09-17 00:00:00'), Timestamp('2020-09-18 00:00:00'), Timestamp('2020-09-21 00:00:00'), Timestamp('2020-09-22 00:00:00'), Timestamp('2020-09-23 00:00:00'), Timestamp('2020-09-24 00:00:00'), Timestamp('2020-09-25 00:00:00'), Timestamp('2020-09-28 00:00:00'), Timestamp('2020-09-29 00:00:00'), Timestamp('2020-09-30 00:00:00'), Timestamp('2020-10-01 00:00:00'), Timestamp('2020-10-02 00:00:00'), Timestamp('2020-10-05 00:00:00'), Timestamp('2020-10-06 00:00:00'), Timestamp('2020-10-07 00:00:00'), Timestamp('2020-10-08 00:00:00'), Timestamp('2020-10-09 00:00:00'), Timestamp('2020-10-12 00:00:00'), Timestamp('2020-10-13 00:00:00'), Timestamp('2020-10-14 00:00:00'), Timestamp('2020-10-15 00:00:00'), Timestamp('2020-10-16 00:00:00'), Timestamp('2020-10-19 00:00:00'), Timestamp('2020-10-20 00:00:00'), Timestamp('2020-10-21 00:00:00'), Timestamp('2020-10-22 00:00:00'), Timestamp('2020-10-23 00:00:00'), Timestamp('2020-10-26 00:00:00'), Timestamp('2020-10-27 00:00:00'), Timestamp('2020-10-28 00:00:00'), Timestamp('2020-10-29 00:00:00'), Timestamp('2020-10-30 00:00:00'), Timestamp('2020-11-02 00:00:00'), Timestamp('2020-11-03 00:00:00'), Timestamp('2020-11-04 00:00:00'), Timestamp('2020-11-05 00:00:00'), Timestamp('2020-11-06 00:00:00'), Timestamp('2020-11-09 00:00:00'), Timestamp('2020-11-10 00:00:00'), Timestamp('2020-11-11 00:00:00'), Timestamp('2020-11-12 00:00:00'), Timestamp('2020-11-13 00:00:00'), Timestamp('2020-11-16 00:00:00'), Timestamp('2020-11-17 00:00:00'), Timestamp('2020-11-18 00:00:00'), Timestamp('2020-11-19 00:00:00'), Timestamp('2020-11-20 00:00:00'), Timestamp('2020-11-23 00:00:00'), Timestamp('2020-11-24 00:00:00'), Timestamp('2020-11-25 00:00:00'), Timestamp('2020-11-27 00:00:00'), Timestamp('2020-11-30 00:00:00'), Timestamp('2020-12-01 00:00:00'), Timestamp('2020-12-02 00:00:00'), Timestamp('2020-12-03 00:00:00'), Timestamp('2020-12-04 00:00:00'), Timestamp('2020-12-07 00:00:00'), Timestamp('2020-12-08 00:00:00'), Timestamp('2020-12-09 00:00:00'), Timestamp('2020-12-10 00:00:00'), Timestamp('2020-12-11 00:00:00'), Timestamp('2020-12-14 00:00:00'), Timestamp('2020-12-15 00:00:00'), Timestamp('2020-12-16 00:00:00'), Timestamp('2020-12-17 00:00:00'), Timestamp('2020-12-18 00:00:00'), Timestamp('2020-12-21 00:00:00'), Timestamp('2020-12-22 00:00:00'), Timestamp('2020-12-23 00:00:00'), Timestamp('2020-12-24 00:00:00'), Timestamp('2020-12-28 00:00:00'), Timestamp('2020-12-29 00:00:00'), Timestamp('2020-12-30 00:00:00'), Timestamp('2020-12-31 00:00:00'), Timestamp('2021-01-04 00:00:00'), Timestamp('2021-01-05 00:00:00'), Timestamp('2021-01-06 00:00:00'), Timestamp('2021-01-07 00:00:00'), Timestamp('2021-01-08 00:00:00'), Timestamp('2021-01-11 00:00:00'), Timestamp('2021-01-12 00:00:00'), Timestamp('2021-01-13 00:00:00'), Timestamp('2021-01-14 00:00:00'), Timestamp('2021-01-15 00:00:00'), Timestamp('2021-01-19 00:00:00'), Timestamp('2021-01-20 00:00:00'), Timestamp('2021-01-21 00:00:00'), Timestamp('2021-01-22 00:00:00'), Timestamp('2021-01-25 00:00:00'), Timestamp('2021-01-26 00:00:00'), Timestamp('2021-01-27 00:00:00'), Timestamp('2021-01-28 00:00:00'), Timestamp('2021-01-29 00:00:00'), Timestamp('2021-02-01 00:00:00'), Timestamp('2021-02-02 00:00:00'), Timestamp('2021-02-03 00:00:00'), Timestamp('2021-02-04 00:00:00'), Timestamp('2021-02-05 00:00:00'), Timestamp('2021-02-08 00:00:00'), Timestamp('2021-02-09 00:00:00'), Timestamp('2021-02-10 00:00:00'), Timestamp('2021-02-11 00:00:00'), Timestamp('2021-02-12 00:00:00'), Timestamp('2021-02-16 00:00:00'), Timestamp('2021-02-17 00:00:00'), Timestamp('2021-02-18 00:00:00'), Timestamp('2021-02-19 00:00:00'), Timestamp('2021-02-22 00:00:00'), Timestamp('2021-02-23 00:00:00'), Timestamp('2021-02-24 00:00:00'), Timestamp('2021-02-25 00:00:00'), Timestamp('2021-02-26 00:00:00')]\n"
          ],
          "name": "stdout"
        }
      ]
    },
    {
      "cell_type": "code",
      "metadata": {
        "id": "sASQIXfy7O-X"
      },
      "source": [
        "binda = pd.read_csv(\"./drive/My Drive/Colab Notebooks/glue_data/labeldata.csv\")\n",
        "binda['date'] = pd.to_datetime(binda['date'])\n",
        "b_date_list = binda['date'].to_list()\n",
        "print(b_date_list)"
      ],
      "execution_count": null,
      "outputs": []
    },
    {
      "cell_type": "code",
      "metadata": {
        "id": "aFE9OPyu8fdw"
      },
      "source": [
        "b_list = []\n",
        "for dates in date_list:\n",
        "  if dates in b_date_list:\n",
        "    #print(binda.loc[binda.date == dates])\n",
        "    b_list.append(binda.loc[binda.date==dates]['label'].item())\n",
        "  else:\n",
        "    b_list.append(0)"
      ],
      "execution_count": null,
      "outputs": []
    },
    {
      "cell_type": "code",
      "metadata": {
        "colab": {
          "base_uri": "https://localhost:8080/"
        },
        "id": "SdGFQONC0Epu",
        "outputId": "3366cdca-718d-4f12-efca-b1f3e99c9095"
      },
      "source": [
        "print(binda.groupby('UD').size())\n"
      ],
      "execution_count": null,
      "outputs": [
        {
          "output_type": "stream",
          "text": [
            "UD\n",
            "0    628\n",
            "1    629\n",
            "dtype: int64\n"
          ],
          "name": "stdout"
        }
      ]
    },
    {
      "cell_type": "code",
      "metadata": {
        "colab": {
          "base_uri": "https://localhost:8080/"
        },
        "id": "J4nj-6e7-Mr3",
        "outputId": "d849c3e2-963b-4594-ea00-27977688d74c"
      },
      "source": [
        "len(b_list)"
      ],
      "execution_count": null,
      "outputs": [
        {
          "output_type": "execute_result",
          "data": {
            "text/plain": [
              "1258"
            ]
          },
          "metadata": {
            "tags": []
          },
          "execution_count": 67
        }
      ]
    },
    {
      "cell_type": "code",
      "metadata": {
        "id": "Pt_l5BCn-osm"
      },
      "source": [
        "bin_df = pd.DataFrame(b_list, columns=['label'])"
      ],
      "execution_count": null,
      "outputs": []
    },
    {
      "cell_type": "markdown",
      "metadata": {
        "id": "XoEy3VyWkBdJ"
      },
      "source": [
        "volume = 주식 거래량 \\\n",
        "open = 장 시작\\\n",
        "close = 장 마감\\\n",
        "high = 장중 최고거래액\\\n",
        "low = 장중 최저거래액"
      ]
    },
    {
      "cell_type": "code",
      "metadata": {
        "colab": {
          "base_uri": "https://localhost:8080/",
          "height": 425
        },
        "id": "OgoIBWEHjCPy",
        "outputId": "a8dd2d57-5ca0-4edc-a6cf-24a66b88f15a"
      },
      "source": [
        "print(\"전체 데이터 shape:{}\".format(raw_data.shape))\n",
        "plt.figure(figsize=(25,5))\n",
        "plt.plot(raw_data['High'],label='SNP500')\n",
        "plt.plot(goog['High'],label='Google')\n",
        "plt.plot(amzn['High'], label='Amazon')\n",
        "plt.plot(fb['High'],label='Facebook')\n",
        "plt.plot(nflx['High'],label='Netflix')\n",
        "plt.plot(aapl['High'],label='apple')\n",
        "plt.plot(msft['High'],label='MicroSoft')\n",
        "\n",
        "print(fb['High'].shape)\n",
        "print(nflx['High'].shape)\n",
        "print(aapl['High'].shape)\n",
        "print(msft['High'].shape)\n",
        "\n",
        "plt.xticks(rotation=90)\n",
        "plt.grid(axis='x')"
      ],
      "execution_count": null,
      "outputs": [
        {
          "output_type": "stream",
          "text": [
            "전체 데이터 shape:(1258, 6)\n",
            "(1258,)\n",
            "(1258,)\n",
            "(1258,)\n",
            "(1258,)\n"
          ],
          "name": "stdout"
        },
        {
          "output_type": "display_data",
          "data": {
            "image/png": "[encoded data removed]",
            "text/plain": [
              "<Figure size 1800x360 with 1 Axes>"
            ]
          },
          "metadata": {
            "tags": [],
            "needs_background": "light"
          }
        }
      ]
    },
    {
      "cell_type": "code",
      "metadata": {
        "id": "rFhBYEAEnudz"
      },
      "source": [
        "output_window = 1\n",
        "input_window = 15\n",
        "batch_size = 20\n",
        "input_dim = 8\n",
        "d_model = 256\n",
        "calcualte_loss_over_all_values = False"
      ],
      "execution_count": null,
      "outputs": []
    },
    {
      "cell_type": "code",
      "metadata": {
        "id": "61XkSUdVaQDR"
      },
      "source": [
        "def s2frame(ser, sclr, str):\n",
        "  sertmp = ser.to_frame()\n",
        "  serscaler = sclr.fit(sertmp.values.reshape(-1,1))\n",
        "  sers = serscaler.transform(sertmp.values.reshape(-1,1))\n",
        "  print(type(sers),'\\n',sers)\n",
        "  sertmp = pd.DataFrame(sers, columns = [str])\n",
        "  return sertmp, serscaler"
      ],
      "execution_count": null,
      "outputs": []
    },
    {
      "cell_type": "code",
      "metadata": {
        "colab": {
          "base_uri": "https://localhost:8080/"
        },
        "id": "XXD-QLp7x-rR",
        "outputId": "0af7eca8-4a76-4904-95fe-4cdd2bb34762"
      },
      "source": [
        "X_cols = list(raw_data.columns)\n",
        "X_cols.remove('High')\n",
        "\n",
        "test_data_size = int(1258*0.3)\n",
        "X = raw_data[X_cols]\n",
        "y = raw_data['High']\n",
        "real_y = y\n",
        "y.dropna(inplace=True)\n",
        "#print(type(y))\n",
        "\n",
        "scaler = StandardScaler()\n",
        "\n",
        "y, yscaler = s2frame(y, scaler, 'GSPC')\n",
        "print(y.index)"
      ],
      "execution_count": null,
      "outputs": [
        {
          "output_type": "stream",
          "text": [
            "<class 'numpy.ndarray'> \n",
            " [[-1.73270375]\n",
            " [-1.71453967]\n",
            " [-1.69855728]\n",
            " ...\n",
            " [ 2.60862585]\n",
            " [ 2.6005458 ]\n",
            " [ 2.45821674]]\n",
            "RangeIndex(start=0, stop=1258, step=1)\n"
          ],
          "name": "stdout"
        }
      ]
    },
    {
      "cell_type": "code",
      "metadata": {
        "id": "uPMthNU64OpD"
      },
      "source": [
        "\n",
        "#print(y, real_y)\n",
        "#real = yscaler.inverse_transform(y)\n",
        "#print('IT\\'S REAL',real, real_y[-10:])\n",
        "\n",
        "goog_high = goog['Close']\n",
        "goog_high.dropna(inplace=True)\n",
        "\n",
        "g , gscaler = s2frame(goog_high, scaler, 'GOOG')\n",
        "print(g)\n",
        "\n",
        "amzn_high = amzn['Close']\n",
        "amzn_high.dropna(inplace=True)\n",
        "\n",
        "a , ascaler = s2frame(amzn_high, scaler, 'AMZN')\n",
        "\n",
        "\n",
        "merged_data = pd.concat([y, a], axis = 1)\n",
        "#print(merged_data)\n",
        "merged_data = pd.concat([merged_data, g], axis = 1)\n",
        "#print(merged_data)\n",
        "\n",
        "fb_high = fb['Close']\n",
        "fb_high.dropna(inplace=True)\n",
        "\n",
        "f, fscaler = s2frame(fb_high, scaler, 'FB')\n",
        "\n",
        "merged_data = pd.concat([merged_data, f],axis = 1)\n",
        "#print(merged_data)\n",
        "\n",
        "nflx_high = nflx['Close']\n",
        "nflx_high.dropna(inplace=True)\n",
        "\n",
        "n, nscaler = s2frame(nflx_high, scaler, 'NFLX')\n",
        "\n",
        "merged_data = pd.concat([merged_data, n], axis  = 1)\n",
        "#print(merged_data)\n",
        "\n",
        "aapl_high = aapl['Close']\n",
        "aapl_high.dropna(inplace=True)\n",
        "\n",
        "ap, apscaler = s2frame(aapl_high, scaler, 'AAPL')\n",
        "\n",
        "merged_data = pd.concat([merged_data, ap], axis = 1)\n",
        "\n",
        "msft_high=msft['Close']\n",
        "msft_high.dropna(inplace=True)\n",
        "\n",
        "ms, msscaler = s2frame(msft_high, scaler, 'MSFT')\n",
        "\n",
        "md = pd.concat([merged_data, ms], axis = 1)\n",
        "print(md)\n",
        "\n",
        "md = pd.concat([md, bin_df], axis=1)\n",
        "print(md)\n",
        "md = md.to_numpy()\n",
        "print(md.shape)\n",
        "yscaler = scaler.fit(real_y.values.reshape(-1,1))\n",
        "real = yscaler.inverse_transform(y)\n",
        "#print('IT\\'S REAL',real, real_y[-10:])\n",
        "\n",
        "X_train, X_test = X[:-test_data_size], X[-test_data_size:]\n",
        "y = y.to_numpy()\n",
        "y_train, y_test = y[:-test_data_size].flatten(), y[-test_data_size:].flatten()\n",
        "md_train, md_test = md[:-test_data_size], md[-test_data_size:]\n",
        "\n",
        "#print(\"train set : \",(y_train.shape))\n",
        "print(md_train.shape)\n",
        "\n",
        "plt.plot(md)\n",
        "\n",
        "#y_train"
      ],
      "execution_count": null,
      "outputs": []
    },
    {
      "cell_type": "code",
      "metadata": {
        "colab": {
          "base_uri": "https://localhost:8080/"
        },
        "id": "z9W_eWz26TfO",
        "outputId": "7fee2469-30bf-4f3a-e092-6bc8e2e7e12b"
      },
      "source": [
        "def updownper(initial, now):\n",
        "  return 100*(now - initial)/initial\n",
        "updownper(0.201,0.21)\n"
      ],
      "execution_count": null,
      "outputs": [
        {
          "output_type": "execute_result",
          "data": {
            "text/plain": [
              "4.477611940298497"
            ]
          },
          "metadata": {
            "tags": []
          },
          "execution_count": 74
        }
      ]
    },
    {
      "cell_type": "markdown",
      "metadata": {
        "id": "Uw70KTL0ClP_"
      },
      "source": [
        "#**seq data 형성함수**\n",
        ">create sequence 시퀀스를 생성한다 \\\n",
        " 그리고 sequence로 바꾼다."
      ]
    },
    {
      "cell_type": "code",
      "metadata": {
        "colab": {
          "base_uri": "https://localhost:8080/"
        },
        "id": "apxWfuySo65z",
        "outputId": "90b3fc3b-9c59-4cb1-b3c9-ecb75391bdea"
      },
      "source": [
        "2/2*4"
      ],
      "execution_count": null,
      "outputs": [
        {
          "output_type": "execute_result",
          "data": {
            "text/plain": [
              "4.0"
            ]
          },
          "metadata": {
            "tags": []
          },
          "execution_count": 75
        }
      ]
    },
    {
      "cell_type": "code",
      "metadata": {
        "id": "J3yFDL1gYRSW"
      },
      "source": [
        "def UpDownLoss2(output, targets):\n",
        "  tgt_list = []\n",
        "  opt_list = []\n",
        "\n",
        "  for i in range(len(targets)):\n",
        "    tgt_items = targets[i][-output_window:]\n",
        "    tgt_yesterday = targets[i][-output_window-1:-output_window]\n",
        "      #print(tgt_items, '\\0',tgt_yesterday)\n",
        "    out_item = output[i][-output_window:]\n",
        "    out_yesterday = output[i][-output_window-1:-output_window]\n",
        "      #print(out_item, '\\0',out_yesterday)\n",
        "    if output_window is 1:\n",
        "      if (updownper(tgt_yesterday, tgt_items) >= 0):\n",
        "        tgt_list.append([1])\n",
        "      else:\n",
        "        tgt_list.append([0])\n",
        "      if (updownper(out_yesterday, out_item)>=0):\n",
        "        opt_list.append([1])\n",
        "      else:\n",
        "        opt_list.append([0])\n",
        "  real = torch.FloatTensor(tgt_list)\n",
        "  predict = torch.FloatTensor(opt_list)\n",
        "  m = nn.BCELoss()\n",
        "  result = m(real,predict)\n",
        "  return result\n"
      ],
      "execution_count": null,
      "outputs": []
    },
    {
      "cell_type": "code",
      "metadata": {
        "colab": {
          "base_uri": "https://localhost:8080/"
        },
        "id": "xloF0_C6l2H_",
        "outputId": "d8b5a2b4-9f78-4b41-f2ba-81f3c78661e0"
      },
      "source": [
        "a = [[1,1],[0,1]]\n",
        "b = [[0,1],[1,0]]\n",
        "a= torch.FloatTensor(a)\n",
        "b = torch.FloatTensor(b)\n",
        "print(torch.abs(a-b))\n",
        "torch.abs(a-b).mean()\n",
        "\n"
      ],
      "execution_count": null,
      "outputs": [
        {
          "output_type": "stream",
          "text": [
            "tensor([[1., 0.],\n",
            "        [1., 1.]])\n"
          ],
          "name": "stdout"
        },
        {
          "output_type": "execute_result",
          "data": {
            "text/plain": [
              "tensor(0.7500)"
            ]
          },
          "metadata": {
            "tags": []
          },
          "execution_count": 77
        }
      ]
    },
    {
      "cell_type": "code",
      "metadata": {
        "id": "7nlffg88Wo4O"
      },
      "source": [
        "#mdl = input(\"사용 Model\\n 1:Transformer 2:LSTM: \")\n",
        "mdl = 1\n",
        "mdl = int(mdl)"
      ],
      "execution_count": null,
      "outputs": []
    },
    {
      "cell_type": "code",
      "metadata": {
        "id": "i8cr0AAbCyo9"
      },
      "source": [
        "def create_sequences1(array, tw):\n",
        "  res = []\n",
        "  L = len(array)\n",
        "  for i in range(L - tw ):\n",
        "    #print(len(array[i:i+tw]))\n",
        "    tr_seq = array[i:i + tw]\n",
        "    #print(tr_seq)\n",
        "    train_label = array[i+output_window:i+output_window + tw]\n",
        "    res.append((tr_seq, train_label))\n",
        "  return torch.FloatTensor(res)"
      ],
      "execution_count": null,
      "outputs": []
    },
    {
      "cell_type": "code",
      "metadata": {
        "id": "QqDDAzXyLxAc"
      },
      "source": [
        "def create_sequences2(array,array2, tw):\n",
        "  input = []\n",
        "  output = []\n",
        "\n",
        "  for i in range(len(array)-tw-1):\n",
        "    tmp = array[i:i+tw]\n",
        "    input.append(tmp)\n",
        "\n",
        "    tmp2 = array2[i+tw-1: i+1+tw]\n",
        "    #print(tmp2)\n",
        "    if (updownper(tmp2[0], tmp2[1]) >=0):\n",
        "      output.append([1])\n",
        "    else:\n",
        "      output.append([0])\n",
        "  return torch.FloatTensor(input), torch.FloatTensor(output)"
      ],
      "execution_count": null,
      "outputs": []
    },
    {
      "cell_type": "code",
      "metadata": {
        "colab": {
          "base_uri": "https://localhost:8080/"
        },
        "id": "bSUkqUE9lYRN",
        "outputId": "9cafecbd-da7c-4792-9938-ec8602a71e8c"
      },
      "source": [
        "print(md_train.shape, y_train.shape)"
      ],
      "execution_count": null,
      "outputs": [
        {
          "output_type": "stream",
          "text": [
            "(881, 8) (881,)\n"
          ],
          "name": "stdout"
        }
      ]
    },
    {
      "cell_type": "code",
      "metadata": {
        "id": "LdVqGm4mEY_v",
        "colab": {
          "base_uri": "https://localhost:8080/"
        },
        "outputId": "81659672-18cd-49bf-844a-676836f275c5"
      },
      "source": [
        "seq_len = input_window\n",
        "#X_train = create_sequences1(X_train, seq_len)\n",
        "y_train_seq = create_sequences1(y_train, seq_len)\n",
        "#X_test = create_sequences1(X_test, seq_len)\n",
        "y_test_seq = create_sequences1(y_test, seq_len)\n",
        "\n",
        "md_train_seq = create_sequences1(md_train, input_window)\n",
        "md_test_seq = create_sequences1(md_test, input_window)\n",
        "\n",
        "lstm_md_train, lstm_tgt_train= create_sequences2(md_train,y_train,input_window)\n",
        "lstm_md_test, lstm_tgt_test = create_sequences2(md_test, y_test, input_window)\n",
        "\n",
        "tf_input_train, tf_output_train = create_sequences2(md_train,y_train,input_window)\n",
        "tf_input_test, tf_output_test = create_sequences2(md_test, y_test, input_window)\n",
        "\n",
        "y_train_seq = y_train_seq[:-output_window]\n",
        "y_test_seq = y_test_seq[:-output_window]\n",
        "print(y_train_seq.shape)\n",
        "print(md_train.shape)\n",
        "print(tf_input_train.shape)\n",
        "print(lstm_tgt_test.shape)\n",
        "print(tf_output_train.shape)\n",
        "len(tf_output_test)\n"
      ],
      "execution_count": null,
      "outputs": [
        {
          "output_type": "stream",
          "text": [
            "torch.Size([865, 2, 15])\n",
            "(881, 8)\n",
            "torch.Size([865, 15, 8])\n",
            "torch.Size([361, 1])\n",
            "torch.Size([865, 1])\n"
          ],
          "name": "stdout"
        },
        {
          "output_type": "execute_result",
          "data": {
            "text/plain": [
              "361"
            ]
          },
          "metadata": {
            "tags": []
          },
          "execution_count": 82
        }
      ]
    },
    {
      "cell_type": "code",
      "metadata": {
        "id": "iCMGn2ibdjKp"
      },
      "source": [
        "def create_sequences3(array,array2, tw): #for saving train,\n",
        "  input = []\n",
        "  output = []\n",
        "  ar2 = yscaler.inverse_transform(array2)\n",
        "  for i in range(len(array)-tw-1):\n",
        "    tmp = array[i:i+tw+1]\n",
        "    input.append(tmp)\n",
        "    \n",
        "    tmp2 = ar2[i+tw-1: i+1+tw]\n",
        "    #print(tmp2)\n",
        "    if (updownper(tmp2[0], tmp2[1]) >=0.065):\n",
        "      output.append([1])\n",
        "    else:\n",
        "      output.append([0])\n",
        "  return torch.FloatTensor(input), torch.FloatTensor(output)"
      ],
      "execution_count": null,
      "outputs": []
    },
    {
      "cell_type": "code",
      "metadata": {
        "id": "zT8ANWrjDibf"
      },
      "source": [
        "from sklearn.model_selection import train_test_split\n",
        "\n",
        "#itrain, itest, otrain, otest = train_test_split(ip, op, stratify=op, test_size = 0.2, random_state=0)"
      ],
      "execution_count": null,
      "outputs": []
    },
    {
      "cell_type": "code",
      "metadata": {
        "id": "zK_wjkxidsXy"
      },
      "source": [
        "tf_in_tr, tf_out_tr = create_sequences3(md_train,y_train,input_window)\n",
        "tf_in_t, tf_out_t = create_sequences3(md_test, y_test, input_window)"
      ],
      "execution_count": null,
      "outputs": []
    },
    {
      "cell_type": "code",
      "metadata": {
        "id": "cfgz88kRd1ta"
      },
      "source": [
        "tfin = np.concatenate((tf_in_tr, tf_in_t))\n",
        "tfo = np.concatenate((tf_out_tr, tf_out_t))"
      ],
      "execution_count": null,
      "outputs": []
    },
    {
      "cell_type": "code",
      "metadata": {
        "id": "MSv88RY3pXv_"
      },
      "source": [
        "npin_train, npin_test, npo_train, npo_test = train_test_split(tfin, tfo, stratify=tfo, test_size = 0.2, random_state=0)"
      ],
      "execution_count": null,
      "outputs": []
    },
    {
      "cell_type": "code",
      "metadata": {
        "id": "vgKFtAVEpM5I"
      },
      "source": [
        "\n",
        "np.save('./drive/MyDrive/graph/npo_train_with_doc.npy',npo_train )\n",
        "\n",
        "np.save('./drive/MyDrive/graph/npo_test_with_doc.npy', npo_test)\n",
        "\n",
        "np.save('./drive/MyDrive/graph/npin_train_with_doc.npy', npin_train)\n",
        "\n",
        "np.save('./drive/MyDrive/graph/npin_test_with_doc.npy', npin_test)\n"
      ],
      "execution_count": null,
      "outputs": []
    },
    {
      "cell_type": "code",
      "metadata": {
        "colab": {
          "base_uri": "https://localhost:8080/"
        },
        "id": "DwKkMJv8KMWr",
        "outputId": "c6010881-b1dc-4f48-87b0-77d372d8764f"
      },
      "source": [
        "tot = np.load('./drive/MyDrive/graph/npo_train_with_doc.npy')\n",
        "\n",
        "totgt = np.load('./drive/MyDrive/graph/npo_test_with_doc.npy')\n",
        "\n",
        "tit = np.load('./drive/MyDrive/graph/npin_train_with_doc.npy')\n",
        "\n",
        "titgt = np.load('./drive/MyDrive/graph/npin_test_with_doc.npy')\n",
        "\n",
        "\n",
        "print(np.unique(tot, return_counts=True))\n",
        "print(np.unique(totgt, return_counts=True))\n",
        "\n",
        "op = np.concatenate((tot, totgt))\n",
        "ip = np.concatenate((tit, titgt))\n",
        "\n",
        "print(ip.shape)\n",
        "print(np.unique(op, return_counts = True))"
      ],
      "execution_count": null,
      "outputs": [
        {
          "output_type": "stream",
          "text": [
            "(array([0., 1.], dtype=float32), array([492, 488]))\n",
            "(array([0., 1.], dtype=float32), array([124, 122]))\n",
            "(1226, 16, 8)\n",
            "(array([0., 1.], dtype=float32), array([616, 610]))\n"
          ],
          "name": "stdout"
        }
      ]
    },
    {
      "cell_type": "code",
      "metadata": {
        "id": "DY_HZsctD5pQ"
      },
      "source": [
        "tf_output_test = torch.from_numpy(np.load('./drive/MyDrive/graph/npo_test_with_doc.npy'))\n",
        "tf_output_train = torch.from_numpy(np.load('./drive/MyDrive/graph/npo_train_with_doc.npy'))\n",
        "tf_input_test = torch.from_numpy(np.load('./drive/MyDrive/graph/npin_test_with_doc.npy'))\n",
        "tf_input_train = torch.from_numpy(np.load('./drive/MyDrive/graph/npin_train_with_doc.npy'))"
      ],
      "execution_count": null,
      "outputs": []
    },
    {
      "cell_type": "code",
      "metadata": {
        "id": "sFHAB4UgD9Fq"
      },
      "source": [
        "tf_input_train = torch.stack([secdim[0:-1] for secdim in tf_input_train])\n",
        "tf_input_test= torch.stack([secdim[0:-1] for secdim in tf_input_test])"
      ],
      "execution_count": null,
      "outputs": []
    },
    {
      "cell_type": "code",
      "metadata": {
        "colab": {
          "base_uri": "https://localhost:8080/"
        },
        "id": "Wi8TMjKwqYRq",
        "outputId": "d29341dc-fcb9-4f8b-8f6c-bb5dde5cfdd5"
      },
      "source": [
        "\n",
        "tf_input_train_2d = tf_input_train.reshape(tf_input_train.shape[0],1, -1)\n",
        "tf_input_test_2d = tf_input_test.reshape(tf_input_test.shape[0], 1, -1)\n",
        "\n",
        "\n",
        "y_train_seq = y_train_seq[:-output_window]\n",
        "y_test_seq = y_test_seq[:-output_window]\n",
        "tf_input_test.shape\n",
        "print(tf_input_train_2d.shape)\n",
        "#print(tf_input_train)\n",
        "#print(tf_input_train_2d)"
      ],
      "execution_count": null,
      "outputs": [
        {
          "output_type": "stream",
          "text": [
            "torch.Size([980, 1, 120])\n"
          ],
          "name": "stdout"
        }
      ]
    },
    {
      "cell_type": "code",
      "metadata": {
        "id": "O2FXdsauGqUJ"
      },
      "source": [
        "yscaler.inverse_transform(y)"
      ],
      "execution_count": null,
      "outputs": []
    },
    {
      "cell_type": "markdown",
      "metadata": {
        "id": "KcxThjJ6FNqt"
      },
      "source": [
        ">예시\n"
      ]
    },
    {
      "cell_type": "markdown",
      "metadata": {
        "id": "7iFJwllxWQy2"
      },
      "source": [
        "예시의 create_inout_sequences 역할과 비슷"
      ]
    },
    {
      "cell_type": "code",
      "metadata": {
        "id": "mWlekQSKaykK"
      },
      "source": [
        "#print(\"X_train :\",(X_train.shape))\n",
        "#print(\"X_test :\",(X_test.shape))\n",
        "#print(\"y_train :\",(y_train_seq.shape))\n",
        "#print(\"y_test :\",(y_test_seq.shape))"
      ],
      "execution_count": null,
      "outputs": []
    },
    {
      "cell_type": "markdown",
      "metadata": {
        "id": "vofyA5BDX07U"
      },
      "source": [
        "**LSTM**"
      ]
    },
    {
      "cell_type": "code",
      "metadata": {
        "id": "yA5KYYXG3Jjl"
      },
      "source": [
        "class PositionalEncoding(nn.Module):\n",
        "  def __init__(self, d_model, dropout = 0.1, max_len=5000):\n",
        "    super(PositionalEncoding, self).__init__()\n",
        "    self.dropout = nn.Dropout(p=dropout)\n",
        "\n",
        "    pe = torch.zeros(max_len, d_model)\n",
        "    position = torch.arange(0, max_len, dtype=torch.float).unsqueeze(1)\n",
        "    div_term = torch.exp(torch.arange(0, d_model, 2).float() * (-math.log(10000.0)/d_model))\n",
        "    pe[:, 0::2] = torch.sin(position * div_term)\n",
        "    pe[:, 1::2] = torch.cos(position * div_term)\n",
        "    pe = pe.unsqueeze(0).transpose(0,1)\n",
        "    self.register_buffer('pe',pe)\n",
        "  \n",
        "  def forward(self,x):\n",
        "    x = x + self.pe[:x.size(0), :]\n",
        "    return self.dropout(x)"
      ],
      "execution_count": null,
      "outputs": []
    },
    {
      "cell_type": "markdown",
      "metadata": {
        "id": "uQq4wBKxeNCv"
      },
      "source": [
        "**MODEL 정의하기**\n",
        "**Transformer**"
      ]
    },
    {
      "cell_type": "code",
      "metadata": {
        "id": "oRc7tiXqKoro"
      },
      "source": [
        "class TransformerModel(nn.Module):\n",
        "\n",
        "  def __init__(self, ninp = d_model, nlayers=2, dropout=0.2):\n",
        "    super(TransformerModel, self).__init__()\n",
        "\n",
        "    from torch.nn import TransformerEncoder, TransformerEncoderLayer\n",
        "    \n",
        "    self.model_type = 'Transformer'\n",
        "    \n",
        "    self.src_mask = None\n",
        "    \n",
        "    self.ninp = ninp\n",
        "    self.encoder = nn.Linear(8,ninp)\n",
        "    self.pos_encoder = PositionalEncoding(ninp)\n",
        "\n",
        "    self.encoder_layers = TransformerEncoderLayer(d_model = ninp, nhead = 8, dim_feedforward=1024, dropout = dropout)\n",
        "    self.transformer_encoder = TransformerEncoder(self.encoder_layers, num_layers = nlayers)\n",
        "   # self.encoder = nn.Embedding(1, ninp) #시계열에서 불필요?\n",
        "    self.decoder = nn.Linear(ninp, 1)\n",
        "    self.seq2label = nn.Linear(input_window,1)\n",
        "    self.sig = nn.Sigmoid()\n",
        "    self.agge = nn.Linear(ninp*input_window,1)\n",
        "\n",
        "    self.init_weights()\n",
        "\n",
        "  def _generate_square_subsequent_mask(self, sz):\n",
        "    mask = (torch.triu(torch.ones(sz,sz))==1).transpose(0,1)\n",
        "    mask = mask.float().masked_fill(mask == 0, float('-inf')).masked_fill(mask == 1, float(0.0))\n",
        "    return mask\n",
        "\n",
        "  def init_weights(self):\n",
        "    initrange = 0.1\n",
        "    self.encoder.weight.data.uniform_(-initrange,initrange)\n",
        "    self.decoder.bias.data.zero_()\n",
        "    self.decoder.weight.data.uniform_(-initrange, initrange)\n",
        "\n",
        "  def forward(self, src):\n",
        "    #print(\"====================================\")\n",
        "    #print(src.shape)\n",
        "    if self.src_mask is None or self.src_mask.size(0) != len(src):\n",
        "      device = src.device\n",
        "      mask = self._generate_square_subsequent_mask(len(src)).to(device)\n",
        "      self.src_mask = mask\n",
        "    #print(\"before encoder:\",src.shape, \"src_mask shape:\", self.src_mask.shape)\n",
        "    src = self.encoder(src)\n",
        "    #print(src)\n",
        "    #print(\"after encoder:\",src.shape)\n",
        "    src = self.pos_encoder(src)\n",
        "    output = self.transformer_encoder(src, self.src_mask)\n",
        "    #output = self.decoder(output)\n",
        "    \n",
        "    #output = self.seq2label(output.view(-1, input_window))\n",
        "    output = self.agge(output.view(len(output),-1))\n",
        "    #print(output)\n",
        "    #output = self.sig(output)\n",
        "    return output"
      ],
      "execution_count": null,
      "outputs": []
    },
    {
      "cell_type": "code",
      "metadata": {
        "id": "0Ct1YWWRow6_"
      },
      "source": [
        "class LSTMmodel(nn.Module):\n",
        "  def __init__(self,n_features, n_hidden, seq_len, n_layers=2):\n",
        "    super(LSTMmodel, self).__init__()\n",
        "    self.n_hidden = n_hidden\n",
        "    self.seq_len=seq_len\n",
        "    self.n_layers = n_layers\n",
        "\n",
        "    self.lstm = nn.LSTM(input_size=n_features, hidden_size= n_hidden, num_layers=n_layers)\n",
        "    self.linear = nn.Linear(in_features=n_hidden, out_features = 1)\n",
        "  \n",
        "  def reset_hidden_state(self):\n",
        "    self.hidden = (\n",
        "        torch.zeros(self.n_layers, self.seq_len, self.n_hidden),\n",
        "        torch.zeros(self.n_layers, self.seq_len, self.n_hidden)\n",
        "    )\n",
        "\n",
        "  def forward(self, sequences):\n",
        "    print(sequences.shape)\n",
        "    lstm_out, self.hidden = self.lstm(sequences.view(len(sequences), self.seq_len, -1), self.hidden)\n",
        "    print(lstm_out.shape)\n",
        "    last_time_step = lstm_out.view(self.seq_len, len(sequences), self.n_hidden)[-1]\n",
        "    print(last_time_step.shape)\n",
        "    y_pred = self.linear(last_time_step)\n",
        "    return y_pred"
      ],
      "execution_count": null,
      "outputs": []
    },
    {
      "cell_type": "code",
      "metadata": {
        "id": "NsW52WAEtXrl"
      },
      "source": [
        "ex_model = LSTMmodel(n_features=8, n_hidden=64, seq_len=input_window, n_layers=4)"
      ],
      "execution_count": null,
      "outputs": []
    },
    {
      "cell_type": "code",
      "metadata": {
        "colab": {
          "base_uri": "https://localhost:8080/"
        },
        "id": "n2NtGNn4tzgu",
        "outputId": "60d39e96-0a96-4a96-bce9-513cbf549e5b"
      },
      "source": [
        "tf_input_train.shape"
      ],
      "execution_count": null,
      "outputs": [
        {
          "output_type": "execute_result",
          "data": {
            "text/plain": [
              "torch.Size([980, 15, 8])"
            ]
          },
          "metadata": {
            "tags": []
          },
          "execution_count": 99
        }
      ]
    },
    {
      "cell_type": "code",
      "metadata": {
        "id": "4PGRqmfruS2P"
      },
      "source": [
        "ex_model.reset_hidden_state()"
      ],
      "execution_count": null,
      "outputs": []
    },
    {
      "cell_type": "code",
      "metadata": {
        "id": "5hHNa5fltrBf"
      },
      "source": [
        "outs = ex_model(tf_input_train)"
      ],
      "execution_count": null,
      "outputs": []
    },
    {
      "cell_type": "code",
      "metadata": {
        "colab": {
          "base_uri": "https://localhost:8080/"
        },
        "id": "9eOXNTZxvwh6",
        "outputId": "e9978aa6-dbfc-4c95-9388-34519880db7c"
      },
      "source": [
        "outs.shape"
      ],
      "execution_count": null,
      "outputs": [
        {
          "output_type": "execute_result",
          "data": {
            "text/plain": [
              "torch.Size([980, 1])"
            ]
          },
          "metadata": {
            "tags": []
          },
          "execution_count": 102
        }
      ]
    },
    {
      "cell_type": "code",
      "metadata": {
        "id": "NcRv2t_xUhUb"
      },
      "source": [
        "from torch.utils.tensorboard import SummaryWriter\n",
        "writer = SummaryWriter()"
      ],
      "execution_count": null,
      "outputs": []
    },
    {
      "cell_type": "code",
      "metadata": {
        "id": "hDQ1JEq97jaj",
        "colab": {
          "base_uri": "https://localhost:8080/",
          "height": 35
        },
        "outputId": "f8b5ca48-a2a1-408a-e187-1443ff0fb1ae"
      },
      "source": [
        "'''\n",
        "model1 = TransformerModel()\n",
        "model1\n",
        "'''"
      ],
      "execution_count": null,
      "outputs": [
        {
          "output_type": "execute_result",
          "data": {
            "application/vnd.google.colaboratory.intrinsic+json": {
              "type": "string"
            },
            "text/plain": [
              "'\\nmodel1 = TransformerModel()\\nmodel1\\n'"
            ]
          },
          "metadata": {
            "tags": []
          },
          "execution_count": 104
        }
      ]
    },
    {
      "cell_type": "code",
      "metadata": {
        "id": "Pf4lToYI6VG3"
      },
      "source": [
        "lin = nn.Linear(7,1)\n",
        "a = torch.randn(3,7)\n",
        "a.shape\n",
        "lin(a)"
      ],
      "execution_count": null,
      "outputs": []
    },
    {
      "cell_type": "code",
      "metadata": {
        "id": "w1pDJ9aT7loC"
      },
      "source": [
        "a=torch.Tensor([1,2])\n",
        "b=torch.Tensor([3,4])\n",
        "c=torch.Tensor([5,6])\n",
        "torch.stack([a,b,c]).chunk(3,1)\n",
        "\n",
        "d = torch.Tensor([[[1,2],[3,4]],[[5,6],[7,8]],[[9,10],[11,12]]])\n",
        "print(d.shape[0])\n",
        "d.reshape(d.shape[0],-1)"
      ],
      "execution_count": null,
      "outputs": []
    },
    {
      "cell_type": "code",
      "metadata": {
        "id": "L5y8LWhuX-mN"
      },
      "source": [
        "def get_batch(source, target, i, batch_size):\n",
        "  #print(batch_size)\n",
        "  length = min(batch_size, len(source) - 1 - i)\n",
        "  #print(length)\n",
        "  #print(data.shape)\n",
        "  input = source[i:i+length]\n",
        "  output = target[i:i+length]\n",
        "  return input, output"
      ],
      "execution_count": null,
      "outputs": []
    },
    {
      "cell_type": "code",
      "metadata": {
        "id": "9F-p28uunlay",
        "colab": {
          "base_uri": "https://localhost:8080/"
        },
        "outputId": "f29164c6-7256-49f9-a236-1443215a5fa2"
      },
      "source": [
        "print(tf_input_train.shape)\n",
        "print(tf_output_train.shape)\n",
        "inp, oup = get_batch(tf_input_train,tf_output_train, 0 , batch_size)\n",
        "\n",
        "print(\"inp shpae:\",inp.shape)\n",
        "print(oup.shape)\n",
        "print(tf_input_test_2d.shape, tf_output_test.shape)"
      ],
      "execution_count": null,
      "outputs": [
        {
          "output_type": "stream",
          "text": [
            "torch.Size([980, 15, 8])\n",
            "torch.Size([980, 1])\n",
            "inp shpae: torch.Size([20, 15, 8])\n",
            "torch.Size([20, 1])\n",
            "torch.Size([246, 1, 120]) torch.Size([246, 1])\n"
          ],
          "name": "stdout"
        }
      ]
    },
    {
      "cell_type": "markdown",
      "metadata": {
        "id": "Br7B3W2jBR6V"
      },
      "source": [
        "inp shape 의 40, 15, 7 에서 7개의 feature들을 하나로 묶을 필요 있음"
      ]
    },
    {
      "cell_type": "code",
      "metadata": {
        "id": "GduHzdyQA78w",
        "colab": {
          "base_uri": "https://localhost:8080/"
        },
        "outputId": "e9d7cb7f-8af4-46ed-ae4a-bb98396616cf"
      },
      "source": [
        "a = torch.Tensor([[1,2,3,4],[5,6,7,8]])\n",
        "a.shape"
      ],
      "execution_count": null,
      "outputs": [
        {
          "output_type": "execute_result",
          "data": {
            "text/plain": [
              "torch.Size([2, 4])"
            ]
          },
          "metadata": {
            "tags": []
          },
          "execution_count": 109
        }
      ]
    },
    {
      "cell_type": "markdown",
      "metadata": {
        "id": "74_1RqwrbPPO"
      },
      "source": [
        "#**Train 생성하기**\n"
      ]
    },
    {
      "cell_type": "code",
      "metadata": {
        "id": "j7gwtbFM5q9W"
      },
      "source": [
        "import os\n",
        "def createDirectory(directory):\n",
        "  try:\n",
        "    if not os.path.exists(directory):\n",
        "      os.makedirs(directory)\n",
        "  except OSError:\n",
        "    print(\"failed\")"
      ],
      "execution_count": null,
      "outputs": []
    },
    {
      "cell_type": "code",
      "metadata": {
        "id": "C6Y5jFoJrDT9"
      },
      "source": [
        "from sklearn.metrics import r2_score\n",
        "from sklearn.metrics import mean_squared_error as mse"
      ],
      "execution_count": null,
      "outputs": []
    },
    {
      "cell_type": "code",
      "metadata": {
        "id": "Mss8hoDsUMqP"
      },
      "source": [
        "\n",
        "def MPE(test, pred):\n",
        "\n",
        "  #test, pred = check_array\n",
        "\n",
        "  return torch.mean((test - pred) / test)*100"
      ],
      "execution_count": null,
      "outputs": []
    },
    {
      "cell_type": "code",
      "metadata": {
        "id": "mPK5ahFO95U1"
      },
      "source": [
        "from sklearn.metrics import f1_score, accuracy_score\n",
        "import numpy as np\n",
        "import sklearn.dummy"
      ],
      "execution_count": null,
      "outputs": []
    },
    {
      "cell_type": "markdown",
      "metadata": {
        "id": "av4Wo6uZs3He"
      },
      "source": [
        ""
      ]
    },
    {
      "cell_type": "code",
      "metadata": {
        "id": "DvUEC2ppihYA",
        "colab": {
          "base_uri": "https://localhost:8080/"
        },
        "outputId": "f6d409e5-a94b-468f-9672-5ab5080a5745"
      },
      "source": [
        "sample = tf_output_test.numpy()\n",
        "print(sample.shape)\n",
        "ze = np.zeros((len(sample),1))\n",
        "print(ze.shape)\n",
        "on = np.ones((len(sample),1))\n",
        "f1_z = f1_score(sample, ze)\n",
        "f1_o = f1_score(sample, on)\n",
        "print(\"f1_score with dummy zero:{0}\\nf1_score with dummy ones:{1}\".format(f1_z, f1_o))\n",
        "sample = sample.flatten()\n",
        "ze = ze.flatten()\n",
        "on = on.flatten()\n",
        "f1_z = f1_score(sample, ze)\n",
        "f1_o = f1_score(sample, on)\n",
        "acc_o = accuracy_score(sample, on)\n",
        "print(\"f1_score with dummy zero:{0}\\nf1_score with dummy ones:{1}\\nacc score:{2}\".format(f1_z, f1_o, acc_o))\n",
        "np.unique(sample, return_counts=True)\n"
      ],
      "execution_count": null,
      "outputs": [
        {
          "output_type": "stream",
          "text": [
            "(246, 1)\n",
            "(246, 1)\n",
            "f1_score with dummy zero:0.0\n",
            "f1_score with dummy ones:0.6630434782608696\n",
            "f1_score with dummy zero:0.0\n",
            "f1_score with dummy ones:0.6630434782608696\n",
            "acc score:0.4959349593495935\n"
          ],
          "name": "stdout"
        },
        {
          "output_type": "execute_result",
          "data": {
            "text/plain": [
              "(array([0., 1.], dtype=float32), array([124, 122]))"
            ]
          },
          "metadata": {
            "tags": []
          },
          "execution_count": 114
        }
      ]
    },
    {
      "cell_type": "code",
      "metadata": {
        "id": "QzZVVIFPo0_d"
      },
      "source": [
        "dumb = sklearn.dummy.DummyClassifier(strategy='uniform')"
      ],
      "execution_count": null,
      "outputs": []
    },
    {
      "cell_type": "code",
      "metadata": {
        "id": "5lF5n-X5gjag"
      },
      "source": [
        "def plot_and_loss(eval_model, data_source, data_output, epoch):\n",
        "  eval_model.eval()\n",
        "  total_loss = 0.\n",
        "  target_list = []\n",
        "  output_list = []\n",
        "  with torch.no_grad():\n",
        "    for i in range(0,len(data_source)-1):\n",
        "      data, target = get_batch(data_source, data_output, i, 1)\n",
        "      \n",
        "      output = eval_model(data)\n",
        "      target_list.append([target.item()])\n",
        "      output_list.append([output.item()])\n",
        "  #bce = nn.BCELoss()\n",
        "  target_list = torch.Tensor(target_list)\n",
        "  output_list = torch.Tensor(output_list)\n",
        "  print(output_list.shape)\n",
        "  sig = nn.Sigmoid()\n",
        "  sigged_output = output_list\n",
        "  #print(target_list,\"\\n\",sigged_output)\n",
        "\n",
        "  #print(np_result.shape)\n",
        "  #print(truth_nn, result_nn)\n",
        "  bce = nn.BCEWithLogitsLoss()\n",
        "  \n",
        "  #print(np_result, np_truth)\n",
        "  nn_mse = nn.MSELoss()\n",
        "\n",
        "  UD_score = bce(target_list, output_list)\n",
        "  #print(type(UD_score))\n",
        "  tnp = target_list.numpy()\n",
        "  sop = output_list.numpy()\n",
        "  #print (tnp, sop)\n",
        "  sop = np.where(sop >= 0.5, 1, 0)\n",
        "\n",
        "  #print(sop.shape, tnp.shape)\n",
        "  f1 = f1_score(tnp, sop)\n",
        "  acc = accuracy_score(tnp, sop)\n",
        "  print(\"BCE_LOSS:\", UD_score)\n",
        "  print(\"F1_score:\", f1)\n",
        "  print(\"accuracy:\", acc)\n",
        "  idx = range(0, len(data_source))\n",
        "  return UD_score.item(), f1, acc"
      ],
      "execution_count": null,
      "outputs": []
    },
    {
      "cell_type": "code",
      "metadata": {
        "id": "uXr-Dvjf8cEk"
      },
      "source": [
        "def train(train_data, train_output):\n",
        "  \n",
        "  model.train() #학습모드 시작\n",
        "  total_loss = 0. #total loss 초기화\n",
        "  start_time = time.time() \n",
        "  \n",
        "  for batch, i in enumerate(range(0, len(train_data) - 1,batch_size)):\n",
        "    \n",
        "    data, targets = get_batch(train_data,train_output, i, batch_size)\n",
        "    #print(data.shape, targets.shape)\n",
        "    optimizer.zero_grad()\n",
        "    \n",
        "    output = model(data)\n",
        "    #print(output, targets)\n",
        "    loss = criterion(output, targets)\n",
        "    #loss.requires_grad = True\n",
        "    loss.backward()\n",
        "    #torch.nn.utils.clip_grad_norm_(model.parameters(),0.5)\n",
        "    optimizer.step()\n",
        "\n",
        "    total_loss += loss.item()\n",
        "    log_interval = int(len(train_data) / batch_size)\n",
        "    if batch % log_interval == 0 and batch > 0:\n",
        "      cur_loss = total_loss / log_interval\n",
        "      elapsed = time.time() - start_time\n",
        "      print('| epoch {:3d} | {:5d}/{:5d} batches | ms/batch {:5.2f} | '\n",
        "        'loss {:5.5f} '.format\n",
        "        (epoch, batch, len(train_data) // batch_size,\n",
        "        elapsed*1000 / log_interval,\n",
        "        cur_loss))\n",
        "      total_loss = 0\n",
        "      start_time = time.time()"
      ],
      "execution_count": null,
      "outputs": []
    },
    {
      "cell_type": "markdown",
      "metadata": {
        "id": "08-M6SNz7Zr0"
      },
      "source": [
        "**LSTM training**"
      ]
    },
    {
      "cell_type": "code",
      "metadata": {
        "id": "xRmcLbCy6yyd"
      },
      "source": [
        "#from pandas import DataFrame\n",
        "model = 0\n",
        "if mdl is 1:\n",
        "  print('TF Model Selected')\n",
        "  model = TransformerModel().to(device)\n",
        "else:\n",
        "  model = LSTMModel(n_features = 7, n_hidden = 256, seq_len = input_window, n_layers = 4).to(device)\n",
        "if mdl is 1:\n",
        "  train_data = tf_input_train.to(device)\n",
        "  train_tgt = tf_output_train.to(device)\n",
        "  test_data = tf_input_test.to(device)\n",
        "  test_tgt = tf_output_test.to(device)\n",
        "else: # 따로 분리됨 작업 필요\n",
        "  tr_data = lstm_md_train.to(device)\n",
        "  tr_tgt = lstm_tgt_train.to(device)\n",
        "  tst_data = lstm_md_test.to(device)\n",
        "  tst_tgt = lstm_tgt_test.to(device)\n",
        "#train_data, val_data = get_data()\n",
        "\n",
        "criterion = nn.BCEWithLogitsLoss()\n",
        "#criterion = UpDownLoss()\n",
        "#criterion = nn.MSELoss()\n",
        "lr = 2e-05\n",
        "#optimizer= torch.optim.SGD(model.parameters(), lr = lr)\n",
        "optimizer = torch.optim.Adam(model.parameters(), lr=lr)\n",
        "scheduler = torch.optim.lr_scheduler.StepLR(optimizer, 1.0, gamma = 0.995)\n",
        "\n",
        "best_val_loss = float(\"inf\")\n",
        "epochs = 1000\n",
        "best_model = None\n",
        "\n",
        "loss_data = {'epoch':[0], 'UpDownLoss':[0], 'MSE':[0], 'RMSE':[0]}\n",
        "df = pd.DataFrame(loss_data, columns =[\"epoch\",\"R^2\", \"MSE\", \"RMSE\"])\n",
        "\n",
        "if mdl is 1: #transformer\n",
        "  for epoch in range(1, epochs + 1):\n",
        "    epoch_start_time = time.time()\n",
        "    train(train_data, train_tgt)\n",
        "    if epoch % 1 is 0:\n",
        "      ud, mse_, accu = plot_and_loss(model, test_data, test_tgt, epoch)\n",
        "      print(\"||BCE Loss:{0}||f1 score:{1}||accuracy:{2}\".format(ud, mse_, accu))\n",
        "      tmp = [(epoch, ud, mse_, accu)]\n",
        "      new_data = pd.DataFrame(tmp, columns=df.columns)\n",
        "      df = df.append(new_data)\n",
        "    val_loss = 0 \n",
        "    #predict(model, test_data, test_tgt, 50, epoch)\n",
        "    try:\n",
        "       ppl = math.exp(val_loss)\n",
        "    except OverflowError:\n",
        "      ppl = float('inf')\n",
        "\n",
        "    print('-' * 89)\n",
        "    print('| end of epoch {:3d} | time: {:5.2f}s | valid loss {:5.5f} | valid ppl {:8.2f}'.format(epoch, (time.time() - epoch_start_time),\n",
        "                          val_loss, ppl))\n",
        "    print('-' * 89)\n",
        "    #scheduler.step()\n",
        "  df = df.set_index('epoch')\n",
        "  df.to_csv('./drive/MyDrive/graph/TF_IW{0}_BS{1}_lr{2}_3try.csv'.format(input_window, batch_size, lr))\n",
        "\n",
        "else: #LSTM\n",
        "  model, train_hist, test_hist = train_lstm(model, tr_data, tr_tgt, tst_data, tst_tgt, num_epochs = 300, lr = 0.001)\n",
        "  #df.to_csv('./drive/MyDrive/graph/TF_IW{0}_BS{1}_lr{2}_short.csv'.format(input_window, ))\n",
        "  "
      ],
      "execution_count": null,
      "outputs": []
    },
    {
      "cell_type": "markdown",
      "metadata": {
        "id": "mMcvhpxTfcTB"
      },
      "source": [
        "<details>\n",
        "<summary>LSTM Model</summary>\n",
        "/usr/local/lib/python3.7/dist-packages/torch/nn/modules/loss.py:446: UserWarning: Using a target size (torch.Size([853, 28])) that is different to the input size (torch.Size([853, 1])). This will likely lead to incorrect results due to broadcasting. Please ensure they have the same size.\n",
        "  return F.mse_loss(input, target, reduction=self.reduction)\n",
        "/usr/local/lib/python3.7/dist-packages/torch/nn/modules/loss.py:446: UserWarning: Using a target size (torch.Size([348, 28])) that is different to the input size (torch.Size([348, 1])). This will likely lead to incorrect results due to broadcasting. Please ensure they have the same size.\n",
        "  return F.mse_loss(input, target, reduction=self.reduction)\n",
        "R^2 score: -2.670065156861933\n",
        "MSE score: 1.7842655528206248\n",
        "RMSE SCORE: 1.3357640333609169\n",
        "Epoch 1 train loss: 0.6591 test loss: 1.5446\n",
        "-----------------------------------------------------------------------------------\n",
        "/usr/local/lib/python3.7/dist-packages/torch/nn/modules/loss.py:446: UserWarning: Using a target size (torch.Size([853, 28])) that is different to the input size (torch.Size([853, 1])). This will likely lead to incorrect results due to broadcasting. Please ensure they have the same size.\n",
        "  return F.mse_loss(input, target, reduction=self.reduction)\n",
        "/usr/local/lib/python3.7/dist-packages/torch/nn/modules/loss.py:446: UserWarning: Using a target size (torch.Size([348, 28])) that is different to the input size (torch.Size([348, 1])). This will likely lead to incorrect results due to broadcasting. Please ensure they have the same size.\n",
        "  return F.mse_loss(input, target, reduction=self.reduction)\n",
        "R^2 score: -5.808259282750389\n",
        "MSE score: 3.309952819276273\n",
        "RMSE SCORE: 1.8193275733842635\n",
        "Epoch 6 train loss: 0.4676 test loss: 2.6725\n",
        "-----------------------------------------------------------------------------------\n",
        "/usr/local/lib/python3.7/dist-packages/torch/nn/modules/loss.py:446: UserWarning: Using a target size (torch.Size([853, 28])) that is different to the input size (torch.Size([853, 1])). This will likely lead to incorrect results due to broadcasting. Please ensure they have the same size.\n",
        "  return F.mse_loss(input, target, reduction=self.reduction)\n",
        "/usr/local/lib/python3.7/dist-packages/torch/nn/modules/loss.py:446: UserWarning: Using a target size (torch.Size([348, 28])) that is different to the input size (torch.Size([348, 1])). This will likely lead to incorrect results due to broadcasting. Please ensure they have the same size.\n",
        "  return F.mse_loss(input, target, reduction=self.reduction)\n",
        "R^2 score: -4.464899359842625\n",
        "MSE score: 2.6568551948369414\n",
        "RMSE SCORE: 1.6299862560270075\n",
        "Epoch 11 train loss: 0.4337 test loss: 2.2639\n",
        "-----------------------------------------------------------------------------------\n",
        "/usr/local/lib/python3.7/dist-packages/torch/nn/modules/loss.py:446: UserWarning: Using a target size (torch.Size([853, 28])) that is different to the input size (torch.Size([853, 1])). This will likely lead to incorrect results due to broadcasting. Please ensure they have the same size.\n",
        "  return F.mse_loss(input, target, reduction=self.reduction)\n",
        "/usr/local/lib/python3.7/dist-packages/torch/nn/modules/loss.py:446: UserWarning: Using a target size (torch.Size([348, 28])) that is different to the input size (torch.Size([348, 1])). This will likely lead to incorrect results due to broadcasting. Please ensure they have the same size.\n",
        "  return F.mse_loss(input, target, reduction=self.reduction)\n",
        "R^2 score: -4.4999359724893315\n",
        "MSE score: 2.673888849107671\n",
        "RMSE SCORE: 1.6352029993574715\n",
        "Epoch 16 train loss: 0.432 test loss: 2.2756\n",
        "-----------------------------------------------------------------------------------\n",
        "/usr/local/lib/python3.7/dist-packages/torch/nn/modules/loss.py:446: UserWarning: Using a target size (torch.Size([853, 28])) that is different to the input size (torch.Size([853, 1])). This will likely lead to incorrect results due to broadcasting. Please ensure they have the same size.\n",
        "  return F.mse_loss(input, target, reduction=self.reduction)\n",
        "/usr/local/lib/python3.7/dist-packages/torch/nn/modules/loss.py:446: UserWarning: Using a target size (torch.Size([348, 28])) that is different to the input size (torch.Size([348, 1])). This will likely lead to incorrect results due to broadcasting. Please ensure they have the same size.\n",
        "  return F.mse_loss(input, target, reduction=self.reduction)\n",
        "R^2 score: -5.147973604165913\n",
        "MSE score: 2.9889435344366495\n",
        "RMSE SCORE: 1.7288561346846214\n",
        "Epoch 21 train loss: 0.4265 test loss: 2.4785\n",
        "-----------------------------------------------------------------------------------\n",
        "/usr/local/lib/python3.7/dist-packages/torch/nn/modules/loss.py:446: UserWarning: Using a target size (torch.Size([853, 28])) that is different to the input size (torch.Size([853, 1])). This will likely lead to incorrect results due to broadcasting. Please ensure they have the same size.\n",
        "  return F.mse_loss(input, target, reduction=self.reduction)\n",
        "/usr/local/lib/python3.7/dist-packages/torch/nn/modules/loss.py:446: UserWarning: Using a target size (torch.Size([348, 28])) that is different to the input size (torch.Size([348, 1])). This will likely lead to incorrect results due to broadcasting. Please ensure they have the same size.\n",
        "  return F.mse_loss(input, target, reduction=self.reduction)\n",
        "R^2 score: -4.929479781177164\n",
        "MSE score: 2.8827189893127003\n",
        "RMSE SCORE: 1.6978571757697114\n",
        "Epoch 26 train loss: 0.4228 test loss: 2.3738\n",
        "-----------------------------------------------------------------------------------\n",
        "/usr/local/lib/python3.7/dist-packages/torch/nn/modules/loss.py:446: UserWarning: Using a target size (torch.Size([853, 28])) that is different to the input size (torch.Size([853, 1])). This will likely lead to incorrect results due to broadcasting. Please ensure they have the same size.\n",
        "  return F.mse_loss(input, target, reduction=self.reduction)\n",
        "/usr/local/lib/python3.7/dist-packages/torch/nn/modules/loss.py:446: UserWarning: Using a target size (torch.Size([348, 28])) that is different to the input size (torch.Size([348, 1])). This will likely lead to incorrect results due to broadcasting. Please ensure they have the same size.\n",
        "  return F.mse_loss(input, target, reduction=self.reduction)\n",
        "R^2 score: -4.539523928058235\n",
        "MSE score: 2.693135217335254\n",
        "RMSE SCORE: 1.6410774562266262\n",
        "Epoch 31 train loss: 0.4234 test loss: 2.2142\n",
        "-----------------------------------------------------------------------------------\n",
        "/usr/local/lib/python3.7/dist-packages/torch/nn/modules/loss.py:446: UserWarning: Using a target size (torch.Size([853, 28])) that is different to the input size (torch.Size([853, 1])). This will likely lead to incorrect results due to broadcasting. Please ensure they have the same size.\n",
        "  return F.mse_loss(input, target, reduction=self.reduction)\n",
        "/usr/local/lib/python3.7/dist-packages/torch/nn/modules/loss.py:446: UserWarning: Using a target size (torch.Size([348, 28])) that is different to the input size (torch.Size([348, 1])). This will likely lead to incorrect results due to broadcasting. Please ensure they have the same size.\n",
        "  return F.mse_loss(input, target, reduction=self.reduction)\n",
        "R^2 score: -4.568496339786166\n",
        "MSE score: 2.707220655609185\n",
        "RMSE SCORE: 1.6453633810223154\n",
        "Epoch 36 train loss: 0.42 test loss: 2.1765\n",
        "-----------------------------------------------------------------------------------\n",
        "/usr/local/lib/python3.7/dist-packages/torch/nn/modules/loss.py:446: UserWarning: Using a target size (torch.Size([853, 28])) that is different to the input size (torch.Size([853, 1])). This will likely lead to incorrect results due to broadcasting. Please ensure they have the same size.\n",
        "  return F.mse_loss(input, target, reduction=self.reduction)\n",
        "/usr/local/lib/python3.7/dist-packages/torch/nn/modules/loss.py:446: UserWarning: Using a target size (torch.Size([348, 28])) that is different to the input size (torch.Size([348, 1])). This will likely lead to incorrect results due to broadcasting. Please ensure they have the same size.\n",
        "  return F.mse_loss(input, target, reduction=self.reduction)\n",
        "R^2 score: -4.556062486425593\n",
        "MSE score: 2.7011757230829567\n",
        "RMSE SCORE: 1.6435253947179997\n",
        "Epoch 41 train loss: 0.4178 test loss: 2.0956\n",
        "-----------------------------------------------------------------------------------\n",
        "/usr/local/lib/python3.7/dist-packages/torch/nn/modules/loss.py:446: UserWarning: Using a target size (torch.Size([853, 28])) that is different to the input size (torch.Size([853, 1])). This will likely lead to incorrect results due to broadcasting. Please ensure they have the same size.\n",
        "  return F.mse_loss(input, target, reduction=self.reduction)\n",
        "/usr/local/lib/python3.7/dist-packages/torch/nn/modules/loss.py:446: UserWarning: Using a target size (torch.Size([348, 28])) that is different to the input size (torch.Size([348, 1])). This will likely lead to incorrect results due to broadcasting. Please ensure they have the same size.\n",
        "  return F.mse_loss(input, target, reduction=self.reduction)\n",
        "R^2 score: -4.1225701448628636\n",
        "MSE score: 2.4904259354352414\n",
        "RMSE SCORE: 1.578108340842048\n",
        "Epoch 46 train loss: 0.4123 test loss: 1.9031\n",
        "-----------------------------------------------------------------------------------\n",
        "/usr/local/lib/python3.7/dist-packages/torch/nn/modules/loss.py:446: UserWarning: Using a target size (torch.Size([853, 28])) that is different to the input size (torch.Size([853, 1])). This will likely lead to incorrect results due to broadcasting. Please ensure they have the same size.\n",
        "  return F.mse_loss(input, target, reduction=self.reduction)\n",
        "/usr/local/lib/python3.7/dist-packages/torch/nn/modules/loss.py:446: UserWarning: Using a target size (torch.Size([348, 28])) that is different to the input size (torch.Size([348, 1])). This will likely lead to incorrect results due to broadcasting. Please ensure they have the same size.\n",
        "  return F.mse_loss(input, target, reduction=self.reduction)\n",
        "R^2 score: -3.797894679726345\n",
        "MSE score: 2.332579351375018\n",
        "RMSE SCORE: 1.527278413183077\n",
        "Epoch 51 train loss: 0.4007 test loss: 1.684\n",
        "-----------------------------------------------------------------------------------\n",
        "/usr/local/lib/python3.7/dist-packages/torch/nn/modules/loss.py:446: UserWarning: Using a target size (torch.Size([853, 28])) that is different to the input size (torch.Size([853, 1])). This will likely lead to incorrect results due to broadcasting. Please ensure they have the same size.\n",
        "  return F.mse_loss(input, target, reduction=self.reduction)\n",
        "/usr/local/lib/python3.7/dist-packages/torch/nn/modules/loss.py:446: UserWarning: Using a target size (torch.Size([348, 28])) that is different to the input size (torch.Size([348, 1])). This will likely lead to incorrect results due to broadcasting. Please ensure they have the same size.\n",
        "  return F.mse_loss(input, target, reduction=self.reduction)\n",
        "R^2 score: -3.1013811361574017\n",
        "MSE score: 1.993957264369426\n",
        "RMSE SCORE: 1.4120755165250285\n",
        "Epoch 56 train loss: 0.3796 test loss: 1.3715\n",
        "-----------------------------------------------------------------------------------\n",
        "/usr/local/lib/python3.7/dist-packages/torch/nn/modules/loss.py:446: UserWarning: Using a target size (torch.Size([853, 28])) that is different to the input size (torch.Size([853, 1])). This will likely lead to incorrect results due to broadcasting. Please ensure they have the same size.\n",
        "  return F.mse_loss(input, target, reduction=self.reduction)\n",
        "/usr/local/lib/python3.7/dist-packages/torch/nn/modules/loss.py:446: UserWarning: Using a target size (torch.Size([348, 28])) that is different to the input size (torch.Size([348, 1])). This will likely lead to incorrect results due to broadcasting. Please ensure they have the same size.\n",
        "  return F.mse_loss(input, target, reduction=self.reduction)\n",
        "R^2 score: -2.3762128636896502\n",
        "MSE score: 1.6414041860832125\n",
        "RMSE SCORE: 1.281172972741469\n",
        "Epoch 61 train loss: 0.4374 test loss: 1.2279\n",
        "-----------------------------------------------------------------------------------\n",
        "/usr/local/lib/python3.7/dist-packages/torch/nn/modules/loss.py:446: UserWarning: Using a target size (torch.Size([853, 28])) that is different to the input size (torch.Size([853, 1])). This will likely lead to incorrect results due to broadcasting. Please ensure they have the same size.\n",
        "  return F.mse_loss(input, target, reduction=self.reduction)\n",
        "/usr/local/lib/python3.7/dist-packages/torch/nn/modules/loss.py:446: UserWarning: Using a target size (torch.Size([348, 28])) that is different to the input size (torch.Size([348, 1])). This will likely lead to incorrect results due to broadcasting. Please ensure they have the same size.\n",
        "  return F.mse_loss(input, target, reduction=self.reduction)\n",
        "R^2 score: -2.8136589286836844\n",
        "MSE score: 1.854076144652244\n",
        "RMSE SCORE: 1.3616446469810852\n",
        "Epoch 66 train loss: 0.418 test loss: 1.3794\n",
        "-----------------------------------------------------------------------------------\n",
        "/usr/local/lib/python3.7/dist-packages/torch/nn/modules/loss.py:446: UserWarning: Using a target size (torch.Size([853, 28])) that is different to the input size (torch.Size([853, 1])). This will likely lead to incorrect results due to broadcasting. Please ensure they have the same size.\n",
        "  return F.mse_loss(input, target, reduction=self.reduction)\n",
        "/usr/local/lib/python3.7/dist-packages/torch/nn/modules/loss.py:446: UserWarning: Using a target size (torch.Size([348, 28])) that is different to the input size (torch.Size([348, 1])). This will likely lead to incorrect results due to broadcasting. Please ensure they have the same size.\n",
        "  return F.mse_loss(input, target, reduction=self.reduction)\n",
        "R^2 score: -3.2395438046657805\n",
        "MSE score: 2.0611274315378094\n",
        "RMSE SCORE: 1.4356627151033106\n",
        "Epoch 71 train loss: 0.3998 test loss: 1.4614\n",
        "-----------------------------------------------------------------------------------\n",
        "/usr/local/lib/python3.7/dist-packages/torch/nn/modules/loss.py:446: UserWarning: Using a target size (torch.Size([853, 28])) that is different to the input size (torch.Size([853, 1])). This will likely lead to incorrect results due to broadcasting. Please ensure they have the same size.\n",
        "  return F.mse_loss(input, target, reduction=self.reduction)\n",
        "/usr/local/lib/python3.7/dist-packages/torch/nn/modules/loss.py:446: UserWarning: Using a target size (torch.Size([348, 28])) that is different to the input size (torch.Size([348, 1])). This will likely lead to incorrect results due to broadcasting. Please ensure they have the same size.\n",
        "  return F.mse_loss(input, target, reduction=self.reduction)\n",
        "R^2 score: -3.493989323526627\n",
        "MSE score: 2.184830514444699\n",
        "RMSE SCORE: 1.4781172194534165\n",
        "Epoch 76 train loss: 0.4061 test loss: 1.4717\n",
        "-----------------------------------------------------------------------------------\n",
        "/usr/local/lib/python3.7/dist-packages/torch/nn/modules/loss.py:446: UserWarning: Using a target size (torch.Size([853, 28])) that is different to the input size (torch.Size([853, 1])). This will likely lead to incorrect results due to broadcasting. Please ensure they have the same size.\n",
        "  return F.mse_loss(input, target, reduction=self.reduction)\n",
        "/usr/local/lib/python3.7/dist-packages/torch/nn/modules/loss.py:446: UserWarning: Using a target size (torch.Size([348, 28])) that is different to the input size (torch.Size([348, 1])). This will likely lead to incorrect results due to broadcasting. Please ensure they have the same size.\n",
        "  return F.mse_loss(input, target, reduction=self.reduction)\n",
        "R^2 score: -3.488606785703605\n",
        "MSE score: 2.1822137007332545\n",
        "RMSE SCORE: 1.477231769470605\n",
        "Epoch 81 train loss: 0.4047 test loss: 1.4667\n",
        "-----------------------------------------------------------------------------------\n",
        "/usr/local/lib/python3.7/dist-packages/torch/nn/modules/loss.py:446: UserWarning: Using a target size (torch.Size([853, 28])) that is different to the input size (torch.Size([853, 1])). This will likely lead to incorrect results due to broadcasting. Please ensure they have the same size.\n",
        "  return F.mse_loss(input, target, reduction=self.reduction)\n",
        "/usr/local/lib/python3.7/dist-packages/torch/nn/modules/loss.py:446: UserWarning: Using a target size (torch.Size([348, 28])) that is different to the input size (torch.Size([348, 1])). This will likely lead to incorrect results due to broadcasting. Please ensure they have the same size.\n",
        "  return F.mse_loss(input, target, reduction=self.reduction)\n",
        "R^2 score: -3.3740231472390754\n",
        "MSE score: 2.1265068861970446\n",
        "RMSE SCORE: 1.4582547398164165\n",
        "Epoch 86 train loss: 0.4023 test loss: 1.451\n",
        "-----------------------------------------------------------------------------------\n",
        "/usr/local/lib/python3.7/dist-packages/torch/nn/modules/loss.py:446: UserWarning: Using a target size (torch.Size([853, 28])) that is different to the input size (torch.Size([853, 1])). This will likely lead to incorrect results due to broadcasting. Please ensure they have the same size.\n",
        "  return F.mse_loss(input, target, reduction=self.reduction)\n",
        "/usr/local/lib/python3.7/dist-packages/torch/nn/modules/loss.py:446: UserWarning: Using a target size (torch.Size([348, 28])) that is different to the input size (torch.Size([348, 1])). This will likely lead to incorrect results due to broadcasting. Please ensure they have the same size.\n",
        "  return F.mse_loss(input, target, reduction=self.reduction)\n",
        "R^2 score: -3.2629334363169322\n",
        "MSE score: 2.072498704870732\n",
        "RMSE SCORE: 1.4396175550717392\n",
        "Epoch 91 train loss: 0.4005 test loss: 1.4171\n",
        "-----------------------------------------------------------------------------------\n",
        "/usr/local/lib/python3.7/dist-packages/torch/nn/modules/loss.py:446: UserWarning: Using a target size (torch.Size([853, 28])) that is different to the input size (torch.Size([853, 1])). This will likely lead to incorrect results due to broadcasting. Please ensure they have the same size.\n",
        "  return F.mse_loss(input, target, reduction=self.reduction)\n",
        "/usr/local/lib/python3.7/dist-packages/torch/nn/modules/loss.py:446: UserWarning: Using a target size (torch.Size([348, 28])) that is different to the input size (torch.Size([348, 1])). This will likely lead to incorrect results due to broadcasting. Please ensure they have the same size.\n",
        "  return F.mse_loss(input, target, reduction=self.reduction)\n",
        "R^2 score: -3.1589297941916596\n",
        "MSE score: 2.0219355382563613\n",
        "RMSE SCORE: 1.4219477973035302\n",
        "Epoch 96 train loss: 0.3965 test loss: 1.3569\n",
        "-----------------------------------------------------------------------------------\n",
        "/usr/local/lib/python3.7/dist-packages/torch/nn/modules/loss.py:446: UserWarning: Using a target size (torch.Size([853, 28])) that is different to the input size (torch.Size([853, 1])). This will likely lead to incorrect results due to broadcasting. Please ensure they have the same size.\n",
        "  return F.mse_loss(input, target, reduction=self.reduction)\n",
        "/usr/local/lib/python3.7/dist-packages/torch/nn/modules/loss.py:446: UserWarning: Using a target size (torch.Size([348, 28])) that is different to the input size (torch.Size([348, 1])). This will likely lead to incorrect results due to broadcasting. Please ensure they have the same size.\n",
        "  return F.mse_loss(input, target, reduction=self.reduction)\n",
        "R^2 score: -3.0592059224425965\n",
        "MSE score: 1.9734530559159396\n",
        "RMSE SCORE: 1.4047964464348348\n",
        "Epoch 101 train loss: 0.3932 test loss: 1.2846\n",
        "-----------------------------------------------------------------------------------\n",
        "/usr/local/lib/python3.7/dist-packages/torch/nn/modules/loss.py:446: UserWarning: Using a target size (torch.Size([853, 28])) that is different to the input size (torch.Size([853, 1])). This will likely lead to incorrect results due to broadcasting. Please ensure they have the same size.\n",
        "  return F.mse_loss(input, target, reduction=self.reduction)\n",
        "/usr/local/lib/python3.7/dist-packages/torch/nn/modules/loss.py:446: UserWarning: Using a target size (torch.Size([348, 28])) that is different to the input size (torch.Size([348, 1])). This will likely lead to incorrect results due to broadcasting. Please ensure they have the same size.\n",
        "  return F.mse_loss(input, target, reduction=self.reduction)\n",
        "R^2 score: -2.891163811530547\n",
        "MSE score: 1.891756481847483\n",
        "RMSE SCORE: 1.3754113864031674\n",
        "Epoch 106 train loss: 0.385 test loss: 1.2025\n",
        "-----------------------------------------------------------------------------------\n",
        "/usr/local/lib/python3.7/dist-packages/torch/nn/modules/loss.py:446: UserWarning: Using a target size (torch.Size([853, 28])) that is different to the input size (torch.Size([853, 1])). This will likely lead to incorrect results due to broadcasting. Please ensure they have the same size.\n",
        "  return F.mse_loss(input, target, reduction=self.reduction)\n",
        "/usr/local/lib/python3.7/dist-packages/torch/nn/modules/loss.py:446: UserWarning: Using a target size (torch.Size([348, 28])) that is different to the input size (torch.Size([348, 1])). This will likely lead to incorrect results due to broadcasting. Please ensure they have the same size.\n",
        "  return F.mse_loss(input, target, reduction=self.reduction)\n",
        "R^2 score: -2.6270677820585644\n",
        "MSE score: 1.7633616365563791\n",
        "RMSE SCORE: 1.3279162761847523\n",
        "Epoch 111 train loss: 0.3733 test loss: 1.1193\n",
        "-----------------------------------------------------------------------------------\n",
        "/usr/local/lib/python3.7/dist-packages/torch/nn/modules/loss.py:446: UserWarning: Using a target size (torch.Size([853, 28])) that is different to the input size (torch.Size([853, 1])). This will likely lead to incorrect results due to broadcasting. Please ensure they have the same size.\n",
        "  return F.mse_loss(input, target, reduction=self.reduction)\n",
        "/usr/local/lib/python3.7/dist-packages/torch/nn/modules/loss.py:446: UserWarning: Using a target size (torch.Size([348, 28])) that is different to the input size (torch.Size([348, 1])). This will likely lead to incorrect results due to broadcasting. Please ensure they have the same size.\n",
        "  return F.mse_loss(input, target, reduction=self.reduction)\n",
        "R^2 score: -2.3248460319921964\n",
        "MSE score: 1.6164313138212747\n",
        "RMSE SCORE: 1.2713895208869996\n",
        "Epoch 116 train loss: 0.3581 test loss: 1.0104\n",
        "-----------------------------------------------------------------------------------\n",
        "/usr/local/lib/python3.7/dist-packages/torch/nn/modules/loss.py:446: UserWarning: Using a target size (torch.Size([853, 28])) that is different to the input size (torch.Size([853, 1])). This will likely lead to incorrect results due to broadcasting. Please ensure they have the same size.\n",
        "  return F.mse_loss(input, target, reduction=self.reduction)\n",
        "/usr/local/lib/python3.7/dist-packages/torch/nn/modules/loss.py:446: UserWarning: Using a target size (torch.Size([348, 28])) that is different to the input size (torch.Size([348, 1])). This will likely lead to incorrect results due to broadcasting. Please ensure they have the same size.\n",
        "  return F.mse_loss(input, target, reduction=self.reduction)\n",
        "R^2 score: -1.9258692784699458\n",
        "MSE score: 1.422461875334617\n",
        "RMSE SCORE: 1.1926700613894092\n",
        "Epoch 121 train loss: 0.3386 test loss: 0.8824\n",
        "-----------------------------------------------------------------------------------\n",
        "/usr/local/lib/python3.7/dist-packages/torch/nn/modules/loss.py:446: UserWarning: Using a target size (torch.Size([853, 28])) that is different to the input size (torch.Size([853, 1])). This will likely lead to incorrect results due to broadcasting. Please ensure they have the same size.\n",
        "  return F.mse_loss(input, target, reduction=self.reduction)\n",
        "/usr/local/lib/python3.7/dist-packages/torch/nn/modules/loss.py:446: UserWarning: Using a target size (torch.Size([348, 28])) that is different to the input size (torch.Size([348, 1])). This will likely lead to incorrect results due to broadcasting. Please ensure they have the same size.\n",
        "  return F.mse_loss(input, target, reduction=self.reduction)\n",
        "R^2 score: -1.6400010572903145\n",
        "MSE score: 1.2834821030700148\n",
        "RMSE SCORE: 1.1329086914089832\n",
        "Epoch 126 train loss: 0.3255 test loss: 0.762\n",
        "-----------------------------------------------------------------------------------\n",
        "/usr/local/lib/python3.7/dist-packages/torch/nn/modules/loss.py:446: UserWarning: Using a target size (torch.Size([853, 28])) that is different to the input size (torch.Size([853, 1])). This will likely lead to incorrect results due to broadcasting. Please ensure they have the same size.\n",
        "  return F.mse_loss(input, target, reduction=self.reduction)\n",
        "/usr/local/lib/python3.7/dist-packages/torch/nn/modules/loss.py:446: UserWarning: Using a target size (torch.Size([348, 28])) that is different to the input size (torch.Size([348, 1])). This will likely lead to incorrect results due to broadcasting. Please ensure they have the same size.\n",
        "  return F.mse_loss(input, target, reduction=self.reduction)\n",
        "R^2 score: -1.4631460077109533\n",
        "MSE score: 1.1975009666815117\n",
        "RMSE SCORE: 1.094303873099932\n",
        "Epoch 131 train loss: 0.2999 test loss: 0.6757\n",
        "-----------------------------------------------------------------------------------\n",
        "/usr/local/lib/python3.7/dist-packages/torch/nn/modules/loss.py:446: UserWarning: Using a target size (torch.Size([853, 28])) that is different to the input size (torch.Size([853, 1])). This will likely lead to incorrect results due to broadcasting. Please ensure they have the same size.\n",
        "  return F.mse_loss(input, target, reduction=self.reduction)\n",
        "/usr/local/lib/python3.7/dist-packages/torch/nn/modules/loss.py:446: UserWarning: Using a target size (torch.Size([348, 28])) that is different to the input size (torch.Size([348, 1])). This will likely lead to incorrect results due to broadcasting. Please ensure they have the same size.\n",
        "  return F.mse_loss(input, target, reduction=self.reduction)\n",
        "R^2 score: -1.214410281032006\n",
        "MSE score: 1.076573797843853\n",
        "RMSE SCORE: 1.0375807428069648\n",
        "Epoch 136 train loss: 0.2829 test loss: 0.5677\n",
        "-----------------------------------------------------------------------------------\n",
        "/usr/local/lib/python3.7/dist-packages/torch/nn/modules/loss.py:446: UserWarning: Using a target size (torch.Size([853, 28])) that is different to the input size (torch.Size([853, 1])). This will likely lead to incorrect results due to broadcasting. Please ensure they have the same size.\n",
        "  return F.mse_loss(input, target, reduction=self.reduction)\n",
        "/usr/local/lib/python3.7/dist-packages/torch/nn/modules/loss.py:446: UserWarning: Using a target size (torch.Size([348, 28])) that is different to the input size (torch.Size([348, 1])). This will likely lead to incorrect results due to broadcasting. Please ensure they have the same size.\n",
        "  return F.mse_loss(input, target, reduction=self.reduction)\n",
        "R^2 score: -0.9416684802218735\n",
        "MSE score: 0.9439756615165172\n",
        "RMSE SCORE: 0.9715840990447081\n",
        "Epoch 141 train loss: 0.2757 test loss: 0.4851\n",
        "-----------------------------------------------------------------------------------\n",
        "/usr/local/lib/python3.7/dist-packages/torch/nn/modules/loss.py:446: UserWarning: Using a target size (torch.Size([853, 28])) that is different to the input size (torch.Size([853, 1])). This will likely lead to incorrect results due to broadcasting. Please ensure they have the same size.\n",
        "  return F.mse_loss(input, target, reduction=self.reduction)\n",
        "/usr/local/lib/python3.7/dist-packages/torch/nn/modules/loss.py:446: UserWarning: Using a target size (torch.Size([348, 28])) that is different to the input size (torch.Size([348, 1])). This will likely lead to incorrect results due to broadcasting. Please ensure they have the same size.\n",
        "  return F.mse_loss(input, target, reduction=self.reduction)\n",
        "R^2 score: -0.8097301553895655\n",
        "MSE score: 0.8798315665118297\n",
        "RMSE SCORE: 0.9379933723176458\n",
        "Epoch 146 train loss: 0.2596 test loss: 0.4683\n",
        "-----------------------------------------------------------------------------------\n",
        "/usr/local/lib/python3.7/dist-packages/torch/nn/modules/loss.py:446: UserWarning: Using a target size (torch.Size([853, 28])) that is different to the input size (torch.Size([853, 1])). This will likely lead to incorrect results due to broadcasting. Please ensure they have the same size.\n",
        "  return F.mse_loss(input, target, reduction=self.reduction)\n",
        "/usr/local/lib/python3.7/dist-packages/torch/nn/modules/loss.py:446: UserWarning: Using a target size (torch.Size([348, 28])) that is different to the input size (torch.Size([348, 1])). This will likely lead to incorrect results due to broadcasting. Please ensure they have the same size.\n",
        "  return F.mse_loss(input, target, reduction=self.reduction)\n",
        "R^2 score: -0.8431787264233437\n",
        "MSE score: 0.8960931669292114\n",
        "RMSE SCORE: 0.9466219767833469\n",
        "Epoch 151 train loss: 0.2487 test loss: 0.4678\n",
        "-----------------------------------------------------------------------------------\n",
        "/usr/local/lib/python3.7/dist-packages/torch/nn/modules/loss.py:446: UserWarning: Using a target size (torch.Size([853, 28])) that is different to the input size (torch.Size([853, 1])). This will likely lead to incorrect results due to broadcasting. Please ensure they have the same size.\n",
        "  return F.mse_loss(input, target, reduction=self.reduction)\n",
        "/usr/local/lib/python3.7/dist-packages/torch/nn/modules/loss.py:446: UserWarning: Using a target size (torch.Size([348, 28])) that is different to the input size (torch.Size([348, 1])). This will likely lead to incorrect results due to broadcasting. Please ensure they have the same size.\n",
        "  return F.mse_loss(input, target, reduction=self.reduction)\n",
        "R^2 score: -0.8412979309556252\n",
        "MSE score: 0.8951787857339139\n",
        "RMSE SCORE: 0.9461388828992886\n",
        "Epoch 156 train loss: 0.235 test loss: 0.4768\n",
        "-----------------------------------------------------------------------------------\n",
        "/usr/local/lib/python3.7/dist-packages/torch/nn/modules/loss.py:446: UserWarning: Using a target size (torch.Size([853, 28])) that is different to the input size (torch.Size([853, 1])). This will likely lead to incorrect results due to broadcasting. Please ensure they have the same size.\n",
        "  return F.mse_loss(input, target, reduction=self.reduction)\n",
        "/usr/local/lib/python3.7/dist-packages/torch/nn/modules/loss.py:446: UserWarning: Using a target size (torch.Size([348, 28])) that is different to the input size (torch.Size([348, 1])). This will likely lead to incorrect results due to broadcasting. Please ensure they have the same size.\n",
        "  return F.mse_loss(input, target, reduction=self.reduction)\n",
        "R^2 score: -0.7119629609866389\n",
        "MSE score: 0.8323003566522708\n",
        "RMSE SCORE: 0.9123049691042304\n",
        "Epoch 161 train loss: 0.276 test loss: 0.4808\n",
        "-----------------------------------------------------------------------------------\n",
        "/usr/local/lib/python3.7/dist-packages/torch/nn/modules/loss.py:446: UserWarning: Using a target size (torch.Size([853, 28])) that is different to the input size (torch.Size([853, 1])). This will likely lead to incorrect results due to broadcasting. Please ensure they have the same size.\n",
        "  return F.mse_loss(input, target, reduction=self.reduction)\n",
        "/usr/local/lib/python3.7/dist-packages/torch/nn/modules/loss.py:446: UserWarning: Using a target size (torch.Size([348, 28])) that is different to the input size (torch.Size([348, 1])). This will likely lead to incorrect results due to broadcasting. Please ensure they have the same size.\n",
        "  return F.mse_loss(input, target, reduction=self.reduction)\n",
        "R^2 score: -0.8794522604431363\n",
        "MSE score: 0.9137281718853422\n",
        "RMSE SCORE: 0.9558912971072298\n",
        "Epoch 166 train loss: 0.2436 test loss: 0.517\n",
        "-----------------------------------------------------------------------------------\n",
        "/usr/local/lib/python3.7/dist-packages/torch/nn/modules/loss.py:446: UserWarning: Using a target size (torch.Size([853, 28])) that is different to the input size (torch.Size([853, 1])). This will likely lead to incorrect results due to broadcasting. Please ensure they have the same size.\n",
        "  return F.mse_loss(input, target, reduction=self.reduction)\n",
        "/usr/local/lib/python3.7/dist-packages/torch/nn/modules/loss.py:446: UserWarning: Using a target size (torch.Size([348, 28])) that is different to the input size (torch.Size([348, 1])). This will likely lead to incorrect results due to broadcasting. Please ensure they have the same size.\n",
        "  return F.mse_loss(input, target, reduction=self.reduction)\n",
        "R^2 score: -0.9507823131312865\n",
        "MSE score: 0.9484065087683772\n",
        "RMSE SCORE: 0.9738616476524666\n",
        "Epoch 171 train loss: 0.2348 test loss: 0.5405\n",
        "-----------------------------------------------------------------------------------\n",
        "/usr/local/lib/python3.7/dist-packages/torch/nn/modules/loss.py:446: UserWarning: Using a target size (torch.Size([853, 28])) that is different to the input size (torch.Size([853, 1])). This will likely lead to incorrect results due to broadcasting. Please ensure they have the same size.\n",
        "  return F.mse_loss(input, target, reduction=self.reduction)\n",
        "/usr/local/lib/python3.7/dist-packages/torch/nn/modules/loss.py:446: UserWarning: Using a target size (torch.Size([348, 28])) that is different to the input size (torch.Size([348, 1])). This will likely lead to incorrect results due to broadcasting. Please ensure they have the same size.\n",
        "  return F.mse_loss(input, target, reduction=self.reduction)\n",
        "R^2 score: -1.0389566463051603\n",
        "MSE score: 0.9912739834863445\n",
        "RMSE SCORE: 0.9956274320680123\n",
        "Epoch 176 train loss: 0.2234 test loss: 0.5565\n",
        "-----------------------------------------------------------------------------------\n",
        "/usr/local/lib/python3.7/dist-packages/torch/nn/modules/loss.py:446: UserWarning: Using a target size (torch.Size([853, 28])) that is different to the input size (torch.Size([853, 1])). This will likely lead to incorrect results due to broadcasting. Please ensure they have the same size.\n",
        "  return F.mse_loss(input, target, reduction=self.reduction)\n",
        "/usr/local/lib/python3.7/dist-packages/torch/nn/modules/loss.py:446: UserWarning: Using a target size (torch.Size([348, 28])) that is different to the input size (torch.Size([348, 1])). This will likely lead to incorrect results due to broadcasting. Please ensure they have the same size.\n",
        "  return F.mse_loss(input, target, reduction=self.reduction)\n",
        "R^2 score: -1.1251817808164608\n",
        "MSE score: 1.0331938216146097\n",
        "RMSE SCORE: 1.016461421606649\n",
        "Epoch 181 train loss: 0.2248 test loss: 0.5505\n",
        "-----------------------------------------------------------------------------------\n",
        "/usr/local/lib/python3.7/dist-packages/torch/nn/modules/loss.py:446: UserWarning: Using a target size (torch.Size([853, 28])) that is different to the input size (torch.Size([853, 1])). This will likely lead to incorrect results due to broadcasting. Please ensure they have the same size.\n",
        "  return F.mse_loss(input, target, reduction=self.reduction)\n",
        "/usr/local/lib/python3.7/dist-packages/torch/nn/modules/loss.py:446: UserWarning: Using a target size (torch.Size([348, 28])) that is different to the input size (torch.Size([348, 1])). This will likely lead to incorrect results due to broadcasting. Please ensure they have the same size.\n",
        "  return F.mse_loss(input, target, reduction=self.reduction)\n",
        "R^2 score: -1.0737633347838824\n",
        "MSE score: 1.0081958561523447\n",
        "RMSE SCORE: 1.0040895658019482\n",
        "Epoch 186 train loss: 0.2172 test loss: 0.5424\n",
        "-----------------------------------------------------------------------------------\n",
        "/usr/local/lib/python3.7/dist-packages/torch/nn/modules/loss.py:446: UserWarning: Using a target size (torch.Size([853, 28])) that is different to the input size (torch.Size([853, 1])). This will likely lead to incorrect results due to broadcasting. Please ensure they have the same size.\n",
        "  return F.mse_loss(input, target, reduction=self.reduction)\n",
        "/usr/local/lib/python3.7/dist-packages/torch/nn/modules/loss.py:446: UserWarning: Using a target size (torch.Size([348, 28])) that is different to the input size (torch.Size([348, 1])). This will likely lead to incorrect results due to broadcasting. Please ensure they have the same size.\n",
        "  return F.mse_loss(input, target, reduction=self.reduction)\n",
        "R^2 score: -1.0196810310184299\n",
        "MSE score: 0.9819028102522042\n",
        "RMSE SCORE: 0.9909100919115741\n",
        "Epoch 191 train loss: 0.2152 test loss: 0.5286\n",
        "-----------------------------------------------------------------------------------\n",
        "/usr/local/lib/python3.7/dist-packages/torch/nn/modules/loss.py:446: UserWarning: Using a target size (torch.Size([853, 28])) that is different to the input size (torch.Size([853, 1])). This will likely lead to incorrect results due to broadcasting. Please ensure they have the same size.\n",
        "  return F.mse_loss(input, target, reduction=self.reduction)\n",
        "/usr/local/lib/python3.7/dist-packages/torch/nn/modules/loss.py:446: UserWarning: Using a target size (torch.Size([348, 28])) that is different to the input size (torch.Size([348, 1])). This will likely lead to incorrect results due to broadcasting. Please ensure they have the same size.\n",
        "  return F.mse_loss(input, target, reduction=self.reduction)\n",
        "R^2 score: -1.052207712350465\n",
        "MSE score: 0.9977162180713578\n",
        "RMSE SCORE: 0.998857456332663\n",
        "Epoch 196 train loss: 0.2137 test loss: 0.5222\n",
        "-----------------------------------------------------------------------------------\n",
        "/usr/local/lib/python3.7/dist-packages/torch/nn/modules/loss.py:446: UserWarning: Using a target size (torch.Size([853, 28])) that is different to the input size (torch.Size([853, 1])). This will likely lead to incorrect results due to broadcasting. Please ensure they have the same size.\n",
        "  return F.mse_loss(input, target, reduction=self.reduction)\n",
        "/usr/local/lib/python3.7/dist-packages/torch/nn/modules/loss.py:446: UserWarning: Using a target size (torch.Size([348, 28])) that is different to the input size (torch.Size([348, 1])). This will likely lead to incorrect results due to broadcasting. Please ensure they have the same size.\n",
        "  return F.mse_loss(input, target, reduction=self.reduction)\n",
        "R^2 score: -1.0891654258139147\n",
        "MSE score: 1.0156838486788295\n",
        "RMSE SCORE: 1.0078114152354247\n",
        "Epoch 201 train loss: 0.2117 test loss: 0.5219\n",
        "-----------------------------------------------------------------------------------\n",
        "/usr/local/lib/python3.7/dist-packages/torch/nn/modules/loss.py:446: UserWarning: Using a target size (torch.Size([853, 28])) that is different to the input size (torch.Size([853, 1])). This will likely lead to incorrect results due to broadcasting. Please ensure they have the same size.\n",
        "  return F.mse_loss(input, target, reduction=self.reduction)\n",
        "/usr/local/lib/python3.7/dist-packages/torch/nn/modules/loss.py:446: UserWarning: Using a target size (torch.Size([348, 28])) that is different to the input size (torch.Size([348, 1])). This will likely lead to incorrect results due to broadcasting. Please ensure they have the same size.\n",
        "  return F.mse_loss(input, target, reduction=self.reduction)\n",
        "R^2 score: -1.0793486108949395\n",
        "MSE score: 1.0109112345835203\n",
        "RMSE SCORE: 1.0054408160521038\n",
        "Epoch 206 train loss: 0.2112 test loss: 0.5164\n",
        "-----------------------------------------------------------------------------------\n",
        "/usr/local/lib/python3.7/dist-packages/torch/nn/modules/loss.py:446: UserWarning: Using a target size (torch.Size([853, 28])) that is different to the input size (torch.Size([853, 1])). This will likely lead to incorrect results due to broadcasting. Please ensure they have the same size.\n",
        "  return F.mse_loss(input, target, reduction=self.reduction)\n",
        "/usr/local/lib/python3.7/dist-packages/torch/nn/modules/loss.py:446: UserWarning: Using a target size (torch.Size([348, 28])) that is different to the input size (torch.Size([348, 1])). This will likely lead to incorrect results due to broadcasting. Please ensure they have the same size.\n",
        "  return F.mse_loss(input, target, reduction=self.reduction)\n",
        "R^2 score: -1.0783247844924242\n",
        "MSE score: 1.0104134836979097\n",
        "RMSE SCORE: 1.00519325689039\n",
        "Epoch 211 train loss: 0.2125 test loss: 0.516\n",
        "-----------------------------------------------------------------------------------\n",
        "/usr/local/lib/python3.7/dist-packages/torch/nn/modules/loss.py:446: UserWarning: Using a target size (torch.Size([853, 28])) that is different to the input size (torch.Size([853, 1])). This will likely lead to incorrect results due to broadcasting. Please ensure they have the same size.\n",
        "  return F.mse_loss(input, target, reduction=self.reduction)\n",
        "/usr/local/lib/python3.7/dist-packages/torch/nn/modules/loss.py:446: UserWarning: Using a target size (torch.Size([348, 28])) that is different to the input size (torch.Size([348, 1])). This will likely lead to incorrect results due to broadcasting. Please ensure they have the same size.\n",
        "  return F.mse_loss(input, target, reduction=self.reduction)\n",
        "R^2 score: -1.0980830604528786\n",
        "MSE score: 1.0200193107534452\n",
        "RMSE SCORE: 1.0099600540384976\n",
        "Epoch 216 train loss: 0.2105 test loss: 0.5206\n",
        "-----------------------------------------------------------------------------------\n",
        "/usr/local/lib/python3.7/dist-packages/torch/nn/modules/loss.py:446: UserWarning: Using a target size (torch.Size([853, 28])) that is different to the input size (torch.Size([853, 1])). This will likely lead to incorrect results due to broadcasting. Please ensure they have the same size.\n",
        "  return F.mse_loss(input, target, reduction=self.reduction)\n",
        "/usr/local/lib/python3.7/dist-packages/torch/nn/modules/loss.py:446: UserWarning: Using a target size (torch.Size([348, 28])) that is different to the input size (torch.Size([348, 1])). This will likely lead to incorrect results due to broadcasting. Please ensure they have the same size.\n",
        "  return F.mse_loss(input, target, reduction=self.reduction)\n",
        "R^2 score: -1.0533351332288952\n",
        "MSE score: 0.9982643332003637\n",
        "RMSE SCORE: 0.9991317897056242\n",
        "Epoch 221 train loss: 0.2144 test loss: 0.5229\n",
        "-----------------------------------------------------------------------------------\n",
        "/usr/local/lib/python3.7/dist-packages/torch/nn/modules/loss.py:446: UserWarning: Using a target size (torch.Size([853, 28])) that is different to the input size (torch.Size([853, 1])). This will likely lead to incorrect results due to broadcasting. Please ensure they have the same size.\n",
        "  return F.mse_loss(input, target, reduction=self.reduction)\n",
        "/usr/local/lib/python3.7/dist-packages/torch/nn/modules/loss.py:446: UserWarning: Using a target size (torch.Size([348, 28])) that is different to the input size (torch.Size([348, 1])). This will likely lead to incorrect results due to broadcasting. Please ensure they have the same size.\n",
        "  return F.mse_loss(input, target, reduction=self.reduction)\n",
        "R^2 score: -1.0790582883671118\n",
        "MSE score: 1.0107700892731593\n",
        "RMSE SCORE: 1.0053706228417256\n",
        "Epoch 226 train loss: 0.213 test loss: 0.5204\n",
        "-----------------------------------------------------------------------------------\n",
        "/usr/local/lib/python3.7/dist-packages/torch/nn/modules/loss.py:446: UserWarning: Using a target size (torch.Size([853, 28])) that is different to the input size (torch.Size([853, 1])). This will likely lead to incorrect results due to broadcasting. Please ensure they have the same size.\n",
        "  return F.mse_loss(input, target, reduction=self.reduction)\n",
        "/usr/local/lib/python3.7/dist-packages/torch/nn/modules/loss.py:446: UserWarning: Using a target size (torch.Size([348, 28])) that is different to the input size (torch.Size([348, 1])). This will likely lead to incorrect results due to broadcasting. Please ensure they have the same size.\n",
        "  return F.mse_loss(input, target, reduction=self.reduction)\n",
        "R^2 score: -1.1218838496230896\n",
        "MSE score: 1.031590475414365\n",
        "RMSE SCORE: 1.0156724252505651\n",
        "Epoch 231 train loss: 0.2125 test loss: 0.528\n",
        "-----------------------------------------------------------------------------------\n",
        "/usr/local/lib/python3.7/dist-packages/torch/nn/modules/loss.py:446: UserWarning: Using a target size (torch.Size([853, 28])) that is different to the input size (torch.Size([853, 1])). This will likely lead to incorrect results due to broadcasting. Please ensure they have the same size.\n",
        "  return F.mse_loss(input, target, reduction=self.reduction)\n",
        "/usr/local/lib/python3.7/dist-packages/torch/nn/modules/loss.py:446: UserWarning: Using a target size (torch.Size([348, 28])) that is different to the input size (torch.Size([348, 1])). This will likely lead to incorrect results due to broadcasting. Please ensure they have the same size.\n",
        "  return F.mse_loss(input, target, reduction=self.reduction)\n",
        "R^2 score: -1.0681067006129528\n",
        "MSE score: 1.00544578576811\n",
        "RMSE SCORE: 1.0027191958709627\n",
        "Epoch 236 train loss: 0.2145 test loss: 0.5347\n",
        "-----------------------------------------------------------------------------------\n",
        "/usr/local/lib/python3.7/dist-packages/torch/nn/modules/loss.py:446: UserWarning: Using a target size (torch.Size([853, 28])) that is different to the input size (torch.Size([853, 1])). This will likely lead to incorrect results due to broadcasting. Please ensure they have the same size.\n",
        "  return F.mse_loss(input, target, reduction=self.reduction)\n",
        "/usr/local/lib/python3.7/dist-packages/torch/nn/modules/loss.py:446: UserWarning: Using a target size (torch.Size([348, 28])) that is different to the input size (torch.Size([348, 1])). This will likely lead to incorrect results due to broadcasting. Please ensure they have the same size.\n",
        "  return F.mse_loss(input, target, reduction=self.reduction)\n",
        "R^2 score: -1.0231496225937327\n",
        "MSE score: 0.9835891259441871\n",
        "RMSE SCORE: 0.9917606192747256\n",
        "Epoch 241 train loss: 0.2117 test loss: 0.5319\n",
        "-----------------------------------------------------------------------------------\n",
        "/usr/local/lib/python3.7/dist-packages/torch/nn/modules/loss.py:446: UserWarning: Using a target size (torch.Size([853, 28])) that is different to the input size (torch.Size([853, 1])). This will likely lead to incorrect results due to broadcasting. Please ensure they have the same size.\n",
        "  return F.mse_loss(input, target, reduction=self.reduction)\n",
        "/usr/local/lib/python3.7/dist-packages/torch/nn/modules/loss.py:446: UserWarning: Using a target size (torch.Size([348, 28])) that is different to the input size (torch.Size([348, 1])). This will likely lead to incorrect results due to broadcasting. Please ensure they have the same size.\n",
        "  return F.mse_loss(input, target, reduction=self.reduction)\n",
        "R^2 score: -1.0767460090247285\n",
        "MSE score: 1.0096459347410798\n",
        "RMSE SCORE: 1.004811392621063\n",
        "Epoch 246 train loss: 0.2124 test loss: 0.5345\n",
        "-----------------------------------------------------------------------------------\n",
        "/usr/local/lib/python3.7/dist-packages/torch/nn/modules/loss.py:446: UserWarning: Using a target size (torch.Size([853, 28])) that is different to the input size (torch.Size([853, 1])). This will likely lead to incorrect results due to broadcasting. Please ensure they have the same size.\n",
        "  return F.mse_loss(input, target, reduction=self.reduction)\n",
        "/usr/local/lib/python3.7/dist-packages/torch/nn/modules/loss.py:446: UserWarning: Using a target size (torch.Size([348, 28])) that is different to the input size (torch.Size([348, 1])). This will likely lead to incorrect results due to broadcasting. Please ensure they have the same size.\n",
        "  return F.mse_loss(input, target, reduction=self.reduction)\n",
        "R^2 score: -1.0974591417914352\n",
        "MSE score: 1.0197159819219954\n",
        "RMSE SCORE: 1.0098098741456212\n",
        "Epoch 251 train loss: 0.2102 test loss: 0.5309\n",
        "-----------------------------------------------------------------------------------\n",
        "/usr/local/lib/python3.7/dist-packages/torch/nn/modules/loss.py:446: UserWarning: Using a target size (torch.Size([853, 28])) that is different to the input size (torch.Size([853, 1])). This will likely lead to incorrect results due to broadcasting. Please ensure they have the same size.\n",
        "  return F.mse_loss(input, target, reduction=self.reduction)\n",
        "/usr/local/lib/python3.7/dist-packages/torch/nn/modules/loss.py:446: UserWarning: Using a target size (torch.Size([348, 28])) that is different to the input size (torch.Size([348, 1])). This will likely lead to incorrect results due to broadcasting. Please ensure they have the same size.\n",
        "  return F.mse_loss(input, target, reduction=self.reduction)\n",
        "R^2 score: -1.0864289606324422\n",
        "MSE score: 1.0143534688759899\n",
        "RMSE SCORE: 1.0071511648585776\n",
        "Epoch 256 train loss: 0.2117 test loss: 0.5351\n",
        "-----------------------------------------------------------------------------------\n",
        "/usr/local/lib/python3.7/dist-packages/torch/nn/modules/loss.py:446: UserWarning: Using a target size (torch.Size([853, 28])) that is different to the input size (torch.Size([853, 1])). This will likely lead to incorrect results due to broadcasting. Please ensure they have the same size.\n",
        "  return F.mse_loss(input, target, reduction=self.reduction)\n",
        "/usr/local/lib/python3.7/dist-packages/torch/nn/modules/loss.py:446: UserWarning: Using a target size (torch.Size([348, 28])) that is different to the input size (torch.Size([348, 1])). This will likely lead to incorrect results due to broadcasting. Please ensure they have the same size.\n",
        "  return F.mse_loss(input, target, reduction=self.reduction)\n",
        "R^2 score: -1.0447955133431335\n",
        "MSE score: 0.9941126495257953\n",
        "RMSE SCORE: 0.9970519793500213\n",
        "Epoch 261 train loss: 0.2129 test loss: 0.5368\n",
        "-----------------------------------------------------------------------------------\n",
        "/usr/local/lib/python3.7/dist-packages/torch/nn/modules/loss.py:446: UserWarning: Using a target size (torch.Size([853, 28])) that is different to the input size (torch.Size([853, 1])). This will likely lead to incorrect results due to broadcasting. Please ensure they have the same size.\n",
        "  return F.mse_loss(input, target, reduction=self.reduction)\n",
        "/usr/local/lib/python3.7/dist-packages/torch/nn/modules/loss.py:446: UserWarning: Using a target size (torch.Size([348, 28])) that is different to the input size (torch.Size([348, 1])). This will likely lead to incorrect results due to broadcasting. Please ensure they have the same size.\n",
        "  return F.mse_loss(input, target, reduction=self.reduction)\n",
        "R^2 score: -1.0393514356960183\n",
        "MSE score: 0.9914659171661621\n",
        "RMSE SCORE: 0.9957238157070273\n",
        "Epoch 266 train loss: 0.2109 test loss: 0.5358\n",
        "-----------------------------------------------------------------------------------\n",
        "/usr/local/lib/python3.7/dist-packages/torch/nn/modules/loss.py:446: UserWarning: Using a target size (torch.Size([853, 28])) that is different to the input size (torch.Size([853, 1])). This will likely lead to incorrect results due to broadcasting. Please ensure they have the same size.\n",
        "  return F.mse_loss(input, target, reduction=self.reduction)\n",
        "/usr/local/lib/python3.7/dist-packages/torch/nn/modules/loss.py:446: UserWarning: Using a target size (torch.Size([348, 28])) that is different to the input size (torch.Size([348, 1])). This will likely lead to incorrect results due to broadcasting. Please ensure they have the same size.\n",
        "  return F.mse_loss(input, target, reduction=self.reduction)\n",
        "R^2 score: -1.0697279811706446\n",
        "MSE score: 1.0062339993084444\n",
        "RMSE SCORE: 1.0031121568939558\n",
        "Epoch 271 train loss: 0.2105 test loss: 0.5362\n",
        "-----------------------------------------------------------------------------------\n",
        "/usr/local/lib/python3.7/dist-packages/torch/nn/modules/loss.py:446: UserWarning: Using a target size (torch.Size([853, 28])) that is different to the input size (torch.Size([853, 1])). This will likely lead to incorrect results due to broadcasting. Please ensure they have the same size.\n",
        "  return F.mse_loss(input, target, reduction=self.reduction)\n",
        "/usr/local/lib/python3.7/dist-packages/torch/nn/modules/loss.py:446: UserWarning: Using a target size (torch.Size([348, 28])) that is different to the input size (torch.Size([348, 1])). This will likely lead to incorrect results due to broadcasting. Please ensure they have the same size.\n",
        "  return F.mse_loss(input, target, reduction=self.reduction)\n",
        "R^2 score: -1.085405734619267\n",
        "MSE score: 1.013856009880025\n",
        "RMSE SCORE: 1.0069041711503757\n",
        "Epoch 276 train loss: 0.2119 test loss: 0.5358\n",
        "-----------------------------------------------------------------------------------\n",
        "/usr/local/lib/python3.7/dist-packages/torch/nn/modules/loss.py:446: UserWarning: Using a target size (torch.Size([853, 28])) that is different to the input size (torch.Size([853, 1])). This will likely lead to incorrect results due to broadcasting. Please ensure they have the same size.\n",
        "  return F.mse_loss(input, target, reduction=self.reduction)\n",
        "/usr/local/lib/python3.7/dist-packages/torch/nn/modules/loss.py:446: UserWarning: Using a target size (torch.Size([348, 28])) that is different to the input size (torch.Size([348, 1])). This will likely lead to incorrect results due to broadcasting. Please ensure they have the same size.\n",
        "  return F.mse_loss(input, target, reduction=self.reduction)\n",
        "R^2 score: -1.0756805704699497\n",
        "MSE score: 1.0091279533890634\n",
        "RMSE SCORE: 1.0045536090169918\n",
        "Epoch 281 train loss: 0.2119 test loss: 0.5345\n",
        "-----------------------------------------------------------------------------------\n",
        "/usr/local/lib/python3.7/dist-packages/torch/nn/modules/loss.py:446: UserWarning: Using a target size (torch.Size([853, 28])) that is different to the input size (torch.Size([853, 1])). This will likely lead to incorrect results due to broadcasting. Please ensure they have the same size.\n",
        "  return F.mse_loss(input, target, reduction=self.reduction)\n",
        "/usr/local/lib/python3.7/dist-packages/torch/nn/modules/loss.py:446: UserWarning: Using a target size (torch.Size([348, 28])) that is different to the input size (torch.Size([348, 1])). This will likely lead to incorrect results due to broadcasting. Please ensure they have the same size.\n",
        "  return F.mse_loss(input, target, reduction=self.reduction)\n",
        "R^2 score: -1.0763760582827526\n",
        "MSE score: 1.0094660767993442\n",
        "RMSE SCORE: 1.0047218902757837\n",
        "Epoch 286 train loss: 0.211 test loss: 0.5346\n",
        "-----------------------------------------------------------------------------------\n",
        "/usr/local/lib/python3.7/dist-packages/torch/nn/modules/loss.py:446: UserWarning: Using a target size (torch.Size([853, 28])) that is different to the input size (torch.Size([853, 1])). This will likely lead to incorrect results due to broadcasting. Please ensure they have the same size.\n",
        "  return F.mse_loss(input, target, reduction=self.reduction)\n",
        "/usr/local/lib/python3.7/dist-packages/torch/nn/modules/loss.py:446: UserWarning: Using a target size (torch.Size([348, 28])) that is different to the input size (torch.Size([348, 1])). This will likely lead to incorrect results due to broadcasting. Please ensure they have the same size.\n",
        "  return F.mse_loss(input, target, reduction=self.reduction)\n",
        "R^2 score: -1.0484574671003486\n",
        "MSE score: 0.9958929715816052\n",
        "RMSE SCORE: 0.9979443729895996\n",
        "Epoch 291 train loss: 0.2089 test loss: 0.5318\n",
        "-----------------------------------------------------------------------------------\n",
        "/usr/local/lib/python3.7/dist-packages/torch/nn/modules/loss.py:446: UserWarning: Using a target size (torch.Size([853, 28])) that is different to the input size (torch.Size([853, 1])). This will likely lead to incorrect results due to broadcasting. Please ensure they have the same size.\n",
        "  return F.mse_loss(input, target, reduction=self.reduction)\n",
        "/usr/local/lib/python3.7/dist-packages/torch/nn/modules/loss.py:446: UserWarning: Using a target size (torch.Size([348, 28])) that is different to the input size (torch.Size([348, 1])). This will likely lead to incorrect results due to broadcasting. Please ensure they have the same size.\n",
        "  return F.mse_loss(input, target, reduction=self.reduction)\n",
        "R^2 score: -1.0244733143145668\n",
        "MSE score: 0.9842326615325465\n",
        "RMSE SCORE: 0.9920850072108471\n",
        "Epoch 296 train loss: 0.212 test loss: 0.5317\n",
        "-----------------------------------------------------------------------------------\n",
        "/usr/local/lib/python3.7/dist-packages/torch/nn/modules/loss.py:446: UserWarning: Using a target size (torch.Size([853, 28])) that is different to the input size (torch.Size([853, 1])). This will likely lead to incorrect results due to broadcasting. Please ensure they have the same size.\n",
        "  return F.mse_loss(input, target, reduction=self.reduction)\n",
        "/usr/local/lib/python3.7/dist-packages/torch/nn/modules/loss.py:446: UserWarning: Using a target size (torch.Size([348, 28])) that is different to the input size (torch.Size([348, 1])). This will likely lead to incorrect results due to broadcasting. Please ensure they have the same size.\n",
        "  return F.mse_loss(input, target, reduction=self.reduction)\n",
        "</details>"
      ]
    },
    {
      "cell_type": "markdown",
      "metadata": {
        "id": "6gpL7Q26cPjj"
      },
      "source": [
        "<details>\n",
        "<summary>TF Model</summary>\n",
        "<div markdown=\"1\">\n",
        "\n",
        "TF Model Selected\n",
        "/usr/local/lib/python3.7/dist-packages/torch/optim/lr_scheduler.py:370: UserWarning: To get the last learning rate computed by the scheduler, please use `get_last_lr()`.\n",
        "  \"please use `get_last_lr()`.\", UserWarning)\n",
        "| epoch   1 |   121/  121 batches |lr 0.000003 | ms/batch 155.62 | loss 1.17631 \n",
        "R^2 score: -7.0373717675198755\n",
        "MSE score: 3.907507078773705\n",
        "RMSE SCORE: 1.9767415305936447\n",
        "-----------------------------------------------------------------------------------------\n",
        "| end of epoch   1 | time: 21.08s | valid loss 0.00000 | valid ppl     1.00\n",
        "-----------------------------------------------------------------------------------------\n",
        "/usr/local/lib/python3.7/dist-packages/torch/optim/lr_scheduler.py:370: UserWarning: To get the last learning rate computed by the scheduler, please use `get_last_lr()`.\n",
        "  \"please use `get_last_lr()`.\", UserWarning)\n",
        "| epoch   2 |   121/  121 batches |lr 0.000003 | ms/batch 158.89 | loss 0.79824 \n",
        "R^2 score: -3.0860249500753314\n",
        "MSE score: 1.9864915893261064\n",
        "RMSE SCORE: 1.4094295262006207\n",
        "-----------------------------------------------------------------------------------------\n",
        "| end of epoch   2 | time: 20.03s | valid loss 0.00000 | valid ppl     1.00\n",
        "-----------------------------------------------------------------------------------------\n",
        "/usr/local/lib/python3.7/dist-packages/torch/optim/lr_scheduler.py:370: UserWarning: To get the last learning rate computed by the scheduler, please use `get_last_lr()`.\n",
        "  \"please use `get_last_lr()`.\", UserWarning)\n",
        "| epoch   3 |   121/  121 batches |lr 0.000003 | ms/batch 156.34 | loss 0.55892 \n",
        "R^2 score: -0.5901002272894604\n",
        "MSE score: 0.7730546842690738\n",
        "RMSE SCORE: 0.879235283794431\n",
        "-----------------------------------------------------------------------------------------\n",
        "| end of epoch   3 | time: 19.68s | valid loss 0.00000 | valid ppl     1.00\n",
        "-----------------------------------------------------------------------------------------\n",
        "/usr/local/lib/python3.7/dist-packages/torch/optim/lr_scheduler.py:370: UserWarning: To get the last learning rate computed by the scheduler, please use `get_last_lr()`.\n",
        "  \"please use `get_last_lr()`.\", UserWarning)\n",
        "| epoch   4 |   121/  121 batches |lr 0.000003 | ms/batch 154.32 | loss 0.40538 \n",
        "R^2 score: -0.1696587547205175\n",
        "MSE score: 0.5686498019526577\n",
        "RMSE SCORE: 0.7540887228653255\n",
        "-----------------------------------------------------------------------------------------\n",
        "| end of epoch   4 | time: 19.47s | valid loss 0.00000 | valid ppl     1.00\n",
        "-----------------------------------------------------------------------------------------\n",
        "/usr/local/lib/python3.7/dist-packages/torch/optim/lr_scheduler.py:370: UserWarning: To get the last learning rate computed by the scheduler, please use `get_last_lr()`.\n",
        "  \"please use `get_last_lr()`.\", UserWarning)\n",
        "| epoch   5 |   121/  121 batches |lr 0.000003 | ms/batch 155.14 | loss 0.31438 \n",
        "R^2 score: -0.31733174589529356\n",
        "MSE score: 0.6404435767150738\n",
        "RMSE SCORE: 0.8002771874263778\n",
        "-----------------------------------------------------------------------------------------\n",
        "| end of epoch   5 | time: 19.58s | valid loss 0.00000 | valid ppl     1.00\n",
        "-----------------------------------------------------------------------------------------\n",
        "/usr/local/lib/python3.7/dist-packages/torch/optim/lr_scheduler.py:370: UserWarning: To get the last learning rate computed by the scheduler, please use `get_last_lr()`.\n",
        "  \"please use `get_last_lr()`.\", UserWarning)\n",
        "| epoch   6 |   121/  121 batches |lr 0.000003 | ms/batch 156.31 | loss 0.26110 \n",
        "R^2 score: -0.6498530650613727\n",
        "MSE score: 0.8021045581985227\n",
        "RMSE SCORE: 0.8956029020712933\n",
        "-----------------------------------------------------------------------------------------\n",
        "| end of epoch   6 | time: 19.80s | valid loss 0.00000 | valid ppl     1.00\n",
        "-----------------------------------------------------------------------------------------\n",
        "/usr/local/lib/python3.7/dist-packages/torch/optim/lr_scheduler.py:370: UserWarning: To get the last learning rate computed by the scheduler, please use `get_last_lr()`.\n",
        "  \"please use `get_last_lr()`.\", UserWarning)\n",
        "| epoch   7 |   121/  121 batches |lr 0.000003 | ms/batch 156.00 | loss 0.22838 \n",
        "R^2 score: -0.46408795213463705\n",
        "MSE score: 0.7117916406495558\n",
        "RMSE SCORE: 0.8436774505991942\n",
        "-----------------------------------------------------------------------------------------\n",
        "| end of epoch   7 | time: 19.69s | valid loss 0.00000 | valid ppl     1.00\n",
        "-----------------------------------------------------------------------------------------\n",
        "/usr/local/lib/python3.7/dist-packages/torch/optim/lr_scheduler.py:370: UserWarning: To get the last learning rate computed by the scheduler, please use `get_last_lr()`.\n",
        "  \"please use `get_last_lr()`.\", UserWarning)\n",
        "| epoch   8 |   121/  121 batches |lr 0.000003 | ms/batch 155.40 | loss 0.20625 \n",
        "R^2 score: -0.649308203894549\n",
        "MSE score: 0.8018396645332928\n",
        "RMSE SCORE: 0.8954550041924456\n",
        "-----------------------------------------------------------------------------------------\n",
        "| end of epoch   8 | time: 19.70s | valid loss 0.00000 | valid ppl     1.00\n",
        "-----------------------------------------------------------------------------------------\n",
        "/usr/local/lib/python3.7/dist-packages/torch/optim/lr_scheduler.py:370: UserWarning: To get the last learning rate computed by the scheduler, please use `get_last_lr()`.\n",
        "  \"please use `get_last_lr()`.\", UserWarning)\n",
        "| epoch   9 |   121/  121 batches |lr 0.000003 | ms/batch 155.31 | loss 0.18969 \n",
        "R^2 score: -0.4486298843278378\n",
        "MSE score: 0.7042764340464064\n",
        "RMSE SCORE: 0.8392117933194256\n",
        "-----------------------------------------------------------------------------------------\n",
        "| end of epoch   9 | time: 19.64s | valid loss 0.00000 | valid ppl     1.00\n",
        "-----------------------------------------------------------------------------------------\n",
        "/usr/local/lib/python3.7/dist-packages/torch/optim/lr_scheduler.py:370: UserWarning: To get the last learning rate computed by the scheduler, please use `get_last_lr()`.\n",
        "  \"please use `get_last_lr()`.\", UserWarning)\n",
        "| epoch  10 |   121/  121 batches |lr 0.000003 | ms/batch 155.70 | loss 0.17616 \n",
        "R^2 score: -0.3681526342716863\n",
        "MSE score: 0.6651510292038121\n",
        "RMSE SCORE: 0.8155679182041261\n",
        "-----------------------------------------------------------------------------------------\n",
        "| end of epoch  10 | time: 19.69s | valid loss 0.00000 | valid ppl     1.00\n",
        "-----------------------------------------------------------------------------------------\n",
        "/usr/local/lib/python3.7/dist-packages/torch/optim/lr_scheduler.py:370: UserWarning: To get the last learning rate computed by the scheduler, please use `get_last_lr()`.\n",
        "  \"please use `get_last_lr()`.\", UserWarning)\n",
        "| epoch  11 |   121/  121 batches |lr 0.000003 | ms/batch 155.88 | loss 0.16494 \n",
        "R^2 score: -0.3458230060996439\n",
        "MSE score: 0.6542950948670126\n",
        "RMSE SCORE: 0.8088850937352058\n",
        "-----------------------------------------------------------------------------------------\n",
        "| end of epoch  11 | time: 19.72s | valid loss 0.00000 | valid ppl     1.00\n",
        "-----------------------------------------------------------------------------------------\n",
        "/usr/local/lib/python3.7/dist-packages/torch/optim/lr_scheduler.py:370: UserWarning: To get the last learning rate computed by the scheduler, please use `get_last_lr()`.\n",
        "  \"please use `get_last_lr()`.\", UserWarning)\n",
        "| epoch  12 |   121/  121 batches |lr 0.000002 | ms/batch 155.81 | loss 0.15559 \n",
        "R^2 score: -0.3447436385696989\n",
        "MSE score: 0.6537703417031858\n",
        "RMSE SCORE: 0.8085606604969017\n",
        "-----------------------------------------------------------------------------------------\n",
        "| end of epoch  12 | time: 19.69s | valid loss 0.00000 | valid ppl     1.00\n",
        "-----------------------------------------------------------------------------------------\n",
        "/usr/local/lib/python3.7/dist-packages/torch/optim/lr_scheduler.py:370: UserWarning: To get the last learning rate computed by the scheduler, please use `get_last_lr()`.\n",
        "  \"please use `get_last_lr()`.\", UserWarning)\n",
        "| epoch  13 |   121/  121 batches |lr 0.000002 | ms/batch 155.74 | loss 0.14745 \n",
        "R^2 score: -0.12313555665967102\n",
        "MSE score: 0.5460317458258295\n",
        "RMSE SCORE: 0.738939609051937\n",
        "-----------------------------------------------------------------------------------------\n",
        "| end of epoch  13 | time: 19.72s | valid loss 0.00000 | valid ppl     1.00\n",
        "-----------------------------------------------------------------------------------------\n",
        "/usr/local/lib/python3.7/dist-packages/torch/optim/lr_scheduler.py:370: UserWarning: To get the last learning rate computed by the scheduler, please use `get_last_lr()`.\n",
        "  \"please use `get_last_lr()`.\", UserWarning)\n",
        "| epoch  14 |   121/  121 batches |lr 0.000002 | ms/batch 155.55 | loss 0.13997 \n",
        "R^2 score: -0.030014850598581333\n",
        "MSE score: 0.5007595065119084\n",
        "RMSE SCORE: 0.7076436295989023\n",
        "-----------------------------------------------------------------------------------------\n",
        "| end of epoch  14 | time: 19.70s | valid loss 0.00000 | valid ppl     1.00\n",
        "-----------------------------------------------------------------------------------------\n",
        "/usr/local/lib/python3.7/dist-packages/torch/optim/lr_scheduler.py:370: UserWarning: To get the last learning rate computed by the scheduler, please use `get_last_lr()`.\n",
        "  \"please use `get_last_lr()`.\", UserWarning)\n",
        "| epoch  15 |   121/  121 batches |lr 0.000002 | ms/batch 155.83 | loss 0.13395 \n",
        "R^2 score: 0.06666016875326564\n",
        "MSE score: 0.4537592764137436\n",
        "RMSE SCORE: 0.6736165648302777\n",
        "-----------------------------------------------------------------------------------------\n",
        "| end of epoch  15 | time: 19.60s | valid loss 0.00000 | valid ppl     1.00\n",
        "-----------------------------------------------------------------------------------------\n",
        "/usr/local/lib/python3.7/dist-packages/torch/optim/lr_scheduler.py:370: UserWarning: To get the last learning rate computed by the scheduler, please use `get_last_lr()`.\n",
        "  \"please use `get_last_lr()`.\", UserWarning)\n",
        "| epoch  16 |   121/  121 batches |lr 0.000002 | ms/batch 155.76 | loss 0.12824 \n",
        "R^2 score: 0.07980736708788017\n",
        "MSE score: 0.4473675389099302\n",
        "RMSE SCORE: 0.6688553946182465\n",
        "-----------------------------------------------------------------------------------------\n",
        "| end of epoch  16 | time: 19.68s | valid loss 0.00000 | valid ppl     1.00\n",
        "-----------------------------------------------------------------------------------------\n",
        "/usr/local/lib/python3.7/dist-packages/torch/optim/lr_scheduler.py:370: UserWarning: To get the last learning rate computed by the scheduler, please use `get_last_lr()`.\n",
        "  \"please use `get_last_lr()`.\", UserWarning)\n",
        "| epoch  17 |   121/  121 batches |lr 0.000002 | ms/batch 155.80 | loss 0.12312 \n",
        "R^2 score: 0.13479836919386123\n",
        "MSE score: 0.42063271361961185\n",
        "RMSE SCORE: 0.6485620352900807\n",
        "-----------------------------------------------------------------------------------------\n",
        "| end of epoch  17 | time: 19.76s | valid loss 0.00000 | valid ppl     1.00\n",
        "-----------------------------------------------------------------------------------------\n",
        "/usr/local/lib/python3.7/dist-packages/torch/optim/lr_scheduler.py:370: UserWarning: To get the last learning rate computed by the scheduler, please use `get_last_lr()`.\n",
        "  \"please use `get_last_lr()`.\", UserWarning)\n",
        "| epoch  18 |   121/  121 batches |lr 0.000002 | ms/batch 155.58 | loss 0.11869 \n",
        "R^2 score: 0.2785826068637379\n",
        "MSE score: 0.3507295235268519\n",
        "RMSE SCORE: 0.5922242172748864\n",
        "-----------------------------------------------------------------------------------------\n",
        "| end of epoch  18 | time: 19.60s | valid loss 0.00000 | valid ppl     1.00\n",
        "-----------------------------------------------------------------------------------------\n",
        "/usr/local/lib/python3.7/dist-packages/torch/optim/lr_scheduler.py:370: UserWarning: To get the last learning rate computed by the scheduler, please use `get_last_lr()`.\n",
        "  \"please use `get_last_lr()`.\", UserWarning)\n",
        "| epoch  19 |   121/  121 batches |lr 0.000002 | ms/batch 155.74 | loss 0.11471 \n",
        "R^2 score: 0.39314784668886305\n",
        "MSE score: 0.29503165380690716\n",
        "RMSE SCORE: 0.5431681634695715\n",
        "-----------------------------------------------------------------------------------------\n",
        "| end of epoch  19 | time: 19.71s | valid loss 0.00000 | valid ppl     1.00\n",
        "-----------------------------------------------------------------------------------------\n",
        "/usr/local/lib/python3.7/dist-packages/torch/optim/lr_scheduler.py:370: UserWarning: To get the last learning rate computed by the scheduler, please use `get_last_lr()`.\n",
        "  \"please use `get_last_lr()`.\", UserWarning)\n",
        "| epoch  20 |   121/  121 batches |lr 0.000002 | ms/batch 155.94 | loss 0.11098 \n",
        "R^2 score: 0.42019967053167306\n",
        "MSE score: 0.2818799424991525\n",
        "RMSE SCORE: 0.5309236691833888\n",
        "-----------------------------------------------------------------------------------------\n",
        "| end of epoch  20 | time: 19.72s | valid loss 0.00000 | valid ppl     1.00\n",
        "-----------------------------------------------------------------------------------------\n",
        "/usr/local/lib/python3.7/dist-packages/torch/optim/lr_scheduler.py:370: UserWarning: To get the last learning rate computed by the scheduler, please use `get_last_lr()`.\n",
        "  \"please use `get_last_lr()`.\", UserWarning)\n",
        "| epoch  21 |   121/  121 batches |lr 0.000002 | ms/batch 155.47 | loss 0.10759 \n",
        "R^2 score: 0.5040870620186227\n",
        "MSE score: 0.24109663851167693\n",
        "RMSE SCORE: 0.4910159249063893\n",
        "-----------------------------------------------------------------------------------------\n",
        "| end of epoch  21 | time: 19.64s | valid loss 0.00000 | valid ppl     1.00\n",
        "-----------------------------------------------------------------------------------------\n",
        "</div>\n",
        "</details>\n"
      ]
    }
  ]
}